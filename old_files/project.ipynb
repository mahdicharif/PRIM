{
 "cells": [
  {
   "cell_type": "markdown",
   "metadata": {},
   "source": [
    "# PRIM CHARIF Mahdi"
   ]
  },
  {
   "cell_type": "markdown",
   "metadata": {},
   "source": [
    "## Importing the libraries"
   ]
  },
  {
   "cell_type": "code",
   "execution_count": 1,
   "metadata": {},
   "outputs": [],
   "source": [
    "from zipfile import ZipFile \n",
    "import json\n",
    "import pandas as pd\n",
    "import numpy as np\n",
    "from annoy import AnnoyIndex\n",
    "from sentence_transformers import SentenceTransformer,util\n",
    "import torch\n",
    "import os\n",
    "from functools import reduce\n",
    "from html.parser import HTMLParser\n",
    "import codecs\n",
    "import os\n",
    "import urllib.request\n",
    "import urllib.error\n",
    "from urllib.request import urlopen\n",
    "from bs4 import BeautifulSoup\n",
    "import time\n",
    "import requests\n",
    "import csv\n",
    "import json\n",
    "from nltk.stem import PorterStemmer \n",
    "from nltk.tokenize import word_tokenize\n",
    "from nltk.tokenize import RegexpTokenizer\n",
    "import pickle\n",
    "import math\n",
    "import heapq\n",
    "import re\n",
    "import wikipedia"
   ]
  },
  {
   "cell_type": "markdown",
   "metadata": {},
   "source": [
    "## Test with the Wikipedia library"
   ]
  },
  {
   "cell_type": "code",
   "execution_count": 5,
   "metadata": {},
   "outputs": [],
   "source": [
    "model = SentenceTransformer('distiluse-base-multilingual-cased')"
   ]
  },
  {
   "cell_type": "code",
   "execution_count": 6,
   "metadata": {},
   "outputs": [],
   "source": [
    "a = wikipedia.summary(\"Godfather (1991 film)\")"
   ]
  },
  {
   "cell_type": "code",
   "execution_count": 7,
   "metadata": {},
   "outputs": [],
   "source": [
    "b = wikipedia.summary(\"God Father (1995 film)\")"
   ]
  },
  {
   "cell_type": "code",
   "execution_count": 8,
   "metadata": {},
   "outputs": [],
   "source": [
    "c = wikipedia.summary(\"Inter Milan\")"
   ]
  },
  {
   "cell_type": "code",
   "execution_count": 9,
   "metadata": {},
   "outputs": [],
   "source": [
    "d = wikipedia.summary(\"Juventus\")"
   ]
  },
  {
   "cell_type": "code",
   "execution_count": 10,
   "metadata": {},
   "outputs": [],
   "source": [
    "e = wikipedia.summary(\"Oasis (music)\")"
   ]
  },
  {
   "cell_type": "code",
   "execution_count": 11,
   "metadata": {},
   "outputs": [],
   "source": [
    "L = [a,b,c,d,e]\n",
    "corpus_embeddings = model.encode(L)"
   ]
  },
  {
   "cell_type": "code",
   "execution_count": 16,
   "metadata": {},
   "outputs": [
    {
     "name": "stdout",
     "output_type": "stream",
     "text": [
      "\n",
      "\n",
      "======================\n",
      "\n",
      "\n",
      "Query: Le Parrain (The Godfather) est un film américain de Francis Ford Coppola, sorti en 1972.\n",
      "Produit par les studios Paramount, le film est une adaptation du roman du même nom de Mario Puzo. L'histoire se déroule de 1945 à 1955 et est centrée sur les Corleone, une des plus grandes familles de la Mafia américaine. Le film aborde le sujet de la succession du patriarche de la famille, Vito Corleone dit le Parrain (Marlon Brando), et de l'ascension de son plus jeune fils, Michael (Al Pacino), qui initialement souhaite rester en dehors des activités criminelles de la famille. Mais, à cause d'un enchaînement de circonstances tragiques, Michael finit par en devenir le membre le plus impitoyable.\n",
      "Le Parrain est considéré comme l'un des plus grands films du cinéma mondial et l'un des plus influents, spécialement dans le genre des films de gangsters. Il est classé à la deuxième place des meilleurs films du cinéma nord-américain par l'American Film Institute (AFI) (derrière Citizen Kane). En 1990, le film est sélectionné par Le National Film Registry pour être conservé à la Bibliothèque du Congrès des États-Unis pour son « importance culturelle, historique ou esthétique ».\n",
      "Francis Ford Coppola réalisa deux suites à ce film : Le Parrain, 2e partie en 1974 et Le Parrain, 3e partie en 1990.\n",
      "Le film remporta trois Oscars : celui du meilleur film, du meilleur acteur (Marlon Brando) et du meilleur scénario adapté pour Puzo et Coppola. Il reçut aussi sept nominations dans d'autres catégories incluant Al Pacino, James Caan et Robert Duvall pour l'Oscar du meilleur acteur dans un second rôle et Francis Ford Coppola pour celle de meilleur réalisateur.\n",
      "\n",
      "Top 5 most similar sentences in corpus:\n",
      "['Le', 'Parrain'] (Score: 1.0000)\n",
      "['Father', 'Ted'] (Score: 0.2805)\n",
      "\n",
      "\n",
      "======================\n",
      "\n",
      "\n",
      "Query: Father Ted est une série télévisée britannico–irlandaise en 24 épisodes de 24 minutes et un épisode de 55 minutes, créée par Graham Linehan et Arthur Mathews et diffusée entre le 21 avril 1995 et le 1er mai 1998 sur Channel 4 et sur RTÉ Two en Irlande. Acclamée par la critique et récompensée par plusieurs BAFTA Awards, elle fait l'objet de rediffusions régulières en Royaume-Uni et en Irlande.\n",
      "En France, la série a été diffusée à partir de 1997 sur Jimmy.\n",
      "\n",
      "Top 5 most similar sentences in corpus:\n",
      "['Father', 'Ted'] (Score: 1.0000)\n",
      "['Le', 'Parrain'] (Score: 0.2805)\n",
      "\n",
      "\n",
      "======================\n",
      "\n",
      "\n",
      "Query: Le Football Club Internazionale Milano, abrégé en FC Internazionale Milano, couramment appelée Internazionale (prononcé : [ˌinternattsjoˈnaːle]), Inter ou Inter (de) Milan, est un club de football professionnel italien fondé le 9 mars 1908 et basé dans la ville de Milan, dans la région de Lombardie, dans le nord de l'Italie.\n",
      "Le FC Internazionale Milano a été fondé en 1908 par des dirigeants dissidents de l'AC Milan, avec lequel il partage la résidence du Stade Giuseppe-Meazza (également dénommé San Siro, d'une capacité de 80 018 places) et dispute le « derby della Madonnina ». Ce sont des rencontres de grande intensité au cours desquelles s'exacerbe la rivalité historique entre les deux clubs milanais et leurs supporters. Le club nourrit également une très importante rivalité sportive avec la Juventus (située elle dans la ville de Turin, dans la région voisine du Piémont), face à laquelle il dispute le « derby d'Italie ».\n",
      "Les trois clubs concentrent la majorité des titres acquis en Italie lors du siècle dernier. L'Inter a remporté trente trophées nationaux dont dix-huit Scudetti (le nom donné à la victoire en championnat d'Italie), sept Coupes et cinq Supercoupes d'Italie, ce qui en fait le club le plus titré du pays derrière la Juventus. Il a notamment remporté cinq titres consécutifs entre 2006 et 2010. Sur le plan international, l'Inter compte à son palmarès trois Ligues des champions (en 1964, 1965 et 2010), trois Coupes UEFA, deux Coupes intercontinentales et une Coupe du monde des clubs, ce qui lui vaut d'apparaître au sixième rang européen des clubs de football du XXe siècle selon l'IFFHS. En 2010, le club remporte un retentissant quintuplé : championnat, Coupe et Supercoupe d'Italie, Ligue des champions et Coupe du monde des clubs. Par ailleurs, l'Inter est l'unique équipe italienne à n'avoir jamais connu de relégation depuis son entrée en championnat, en 1908.\n",
      "L'Inter est le second club le plus supporté en Italie et le sixième en Europe.\n",
      "Le club aux rayures bleues et noires (les Nerazzurri) était dirigé par Massimo Moratti, de 1995 à 2013 (fils d'Angelo Moratti, président emblématique de la « Grande Inter » des années 1960). L'homme d'affaires indonésien Erick Thohir a pris le club en 2013 avant de le laisser dans les mains du géant commercial chinois Suning en 2016.\n",
      "\n",
      "Top 5 most similar sentences in corpus:\n",
      "['Le', 'Football'] (Score: 1.0000)\n",
      "['La', 'Juventus'] (Score: 0.5518)\n",
      "\n",
      "\n",
      "======================\n",
      "\n",
      "\n",
      "Query: La Juventus Football Club (du latin iuventūs : jeunesse, prononcé : [iuˈvɛntus]) ou JFC, désignée aussi Juventus Turin ou plus familièrement appelée la Juve (prononcer : [ˈiuːve]), mais également surnommée la Vecchia Signora (la Vieille Dame) ou bien encore les Bianconeri (les Blanc et Noir) en italien, est un club de football professionnel italien (également S.p.A., société par actions) basé dans la ville de Turin, dans la région du Piémont, dans le nord de l'Italie.\n",
      "Deuxième plus ancien club dans le pays après le Genoa Cricket and Football Club, il est fondé le 1er novembre 1897 en tant que club omnisports sous le nom de Sport Club Juventus par un groupe de jeunes étudiants turinois. Lié à la puissante famille industrielle Agnelli depuis 1923, le club, traditionnellement dirigé par des aristocrates et soutenu par des ouvriers, est devenu un symbole de la culture italienne, de l'italianità (italianité),, grâce à son succès et sa contribution à l'équipe d'Italie de football, ininterrompue depuis la seconde moitié des années 1920. Le club compte une base de supporters considérée comme l'une des plus importantes au monde en raison de l'origine socio-économique des sympathisants du club et de leur présence massive dans toutes les régions du pays et, à l'étranger, principalement dans les pays avec une présence significative d'immigrants italiens. Ces raisons font de la Juventus l'un des clubs de football les plus populaires au niveau mondial.\n",
      "En plus d'être la plus soutenue, la Juventus est historiquement l'équipe la plus titrée d'Italie et l'une des plus titrées et reconnues au monde,. Selon l'International Federation of Football History & Statistics, un organisme reconnu par la FIFA, la Juventus est le meilleur club italien et le deuxième meilleur club européen du XXe siècle. En 1985, la Juventus devient la première équipe dans l'histoire du football européen à remporter les trois compétitions majeures organisées par l'Union des associations européennes de football, la Coupe des clubs champions (C1), la Coupe des coupes (C2) et la Coupe UEFA (C3),,. Après leur triomphe en Coupe intercontinentale en 1985, la Juventus est aussi devenue la première équipe dans l'histoire du football à avoir remporté toutes les compétitions officielles au niveau international,,.\n",
      "Ayant connu de nombreuses enceintes durant son histoire (huit depuis 1897), la Juve évolue depuis 2011 au Juventus Stadium, nouveau stade ultramoderne de 41 507 places dont elle est propriétaire. L'équipe première ainsi que toutes les autres catégories s'entraînent sur les terrains du centre sportif du Juventus Center à Vinovo, petite ville située à 14 km au sud-ouest de Turin.\n",
      "Le club entretient plusieurs rivalités dans la Botte, dont les plus notoires restent sans conteste le Torino, appelé Derby della Molle, ou les rencontres sont d'une grande intensité en raison de la suprématie de la ville, ainsi que l'Inter Milan, appelé Derby d'Italie.\n",
      "L'équipe est actuellement présidée par Andrea Agnelli (fils d'Umberto Agnelli, qui fut également président et propriétaire de la société bianconera) depuis le 28 avril 2010, et entraînée par Andrea Pirlo depuis le 8 août 2020.\n",
      "\n",
      "Top 5 most similar sentences in corpus:\n",
      "['La', 'Juventus'] (Score: 1.0000)\n",
      "['Le', 'Football'] (Score: 0.5518)\n",
      "\n",
      "\n",
      "======================\n",
      "\n"
     ]
    },
    {
     "name": "stdout",
     "output_type": "stream",
     "text": [
      "\n",
      "Query: Oasis est un groupe de rock alternatif britannique, originaire de Manchester. Formé en 1991, et initialement nommé The Rain, le groupe est au départ composé de Liam Gallagher (chant), Paul « Bonehead » Arthurs (guitare), Paul « Guigsy » McGuigan (basse) et Tony McCarroll (batterie), rapidement rejoint par Noel (guitare principale et chant), le frère aîné de Liam.\n",
      "Oasis signe avec le label indépendant Creation Records en 1993 et sort son premier album, Definitely Maybe, en 1994. L'année suivante, alors qu'une rivalité naît avec le groupe Blur, le groupe enregistre (What's the Story) Morning Glory? avec le batteur Alan White. Ce nouvel album devient l'un des albums les plus vendus de tous les temps, avec plus de 22 millions d'exemplaires vendus dans le monde entier, et les frères Gallagher apparaissent régulièrement dans les tabloïds pour leurs disputes fraternelles et leur mode de vie sauvage. En 1996, Oasis se produit deux fois à Knebworth devant un public de 125 000 personnes chaque soir, à l'époque les plus grands concerts en plein air de l'histoire du Royaume-Uni. 2,5 millions de personnes essayent d'acheter des billets, ce qui reste la plus forte demande pour un spectacle dans l'histoire britannique. En 1997, Oasis sort son troisième album, Be Here Now. L'album devient le plus vendu de l'histoire des charts britanniques, mais sa popularité diminue rapidement.\n",
      "McGuigan et Arthurs quittent Oasis en 1999, alors que le groupe enregistre Standing on the Shoulder of Giants. Ils sont remplacés par Gem Archer, ancien guitariste du groupe de rock alternatif Heavy Stereo, et Andy Bell, ancien guitariste de Ride. White quitte le groupe à son tour en 2004. Il est remplacé par Zak Starkey et plus tard par Chris Sharrock pour les tournées. Le groupe sort trois autres albums studio, Heathen Chemistry en 2002, Don't Believe The Truth en 2005 et Dig Out Your Soul en 2008, qui rencontrent un succès critique et commercial modéré. Le groupe se sépare alors qu'une ultime dispute mène Noel Gallagher à quitter le groupe le 28 août 2009 après une nouvelle altercation dans les coulisses du festival Rock en Seine. Les autres membres du groupe, désormais menés par Liam, continuent sous le nom de Beady Eye, alors que Noel crée un projet solo, Noel Gallagher's High Flying Birds. Suite à la séparation de Beady Eye en 2014, Liam Gallagher se lance dans une carrière solo, accompagné occasionnellement par Paul Arthurs en tournée, tandis que Bell retourne avec le groupe Ride et Archer et Sharrock deviennent membres de Noel Gallagher's High Flying Birds.\n",
      "Oasis est l'un des groupes les plus populaires du UK Singles Chart et du UK Albums Chart, avec huit singles et huit albums numéro un au Royaume-Uni. Ils remportent 17 NME Awards, neuf Q Awards, quatre MTV Europe Music Awards et six Brit Awards, dont un en 2007 pour « contribution exceptionnelle à la musique » et un pour le « meilleur album des 30 dernières années » pour (What's the Story) Morning Glory ?. Ils sont également nominés pour deux Grammy Awards. (What's the Story) Morning Glory ? est le cinquième album le plus vendu au Royaume-Uni, et l'album le plus vendu au Royaume-Uni dans les années 1990. En 2017, Oasis a vendu plus de 59 millions de disques dans le monde entier.\n",
      "\n",
      "Top 5 most similar sentences in corpus:\n",
      "['Oasis', 'est'] (Score: 1.0000)\n",
      "['Father', 'Ted'] (Score: 0.2775)\n"
     ]
    }
   ],
   "source": [
    "for query in L:\n",
    "    query_embedding = model.encode(query, convert_to_tensor=True)\n",
    "    cos_scores = util.pytorch_cos_sim(query_embedding, corpus_embeddings)[0]\n",
    "    cos_scores = cos_scores.cpu()\n",
    "\n",
    "    #We use torch.topk to find the highest 5 scores\n",
    "    top_results = torch.topk(cos_scores, k = 2)\n",
    "\n",
    "    print(\"\\n\\n======================\\n\\n\")\n",
    "    print(\"Query:\", query)\n",
    "    print(\"\\nTop 5 most similar sentences in corpus:\")\n",
    "\n",
    "    for score, idx in zip(top_results[0], top_results[1]):\n",
    "        print(L[idx].split()[:2], \"(Score: %.4f)\" % (score))"
   ]
  },
  {
   "cell_type": "markdown",
   "metadata": {},
   "source": [
    "# ----------------------------"
   ]
  },
  {
   "cell_type": "markdown",
   "metadata": {},
   "source": [
    "Problem : I must provide a precise query to the Wikipedia library, otherwise I would get an error.\n",
    "I will download the pages and preprocess the HTML find I will get."
   ]
  },
  {
   "cell_type": "markdown",
   "metadata": {},
   "source": [
    "## Downloading the data"
   ]
  },
  {
   "cell_type": "code",
   "execution_count": 47,
   "metadata": {},
   "outputs": [],
   "source": [
    "link = open(\"C:/Users/chari/PRIM/movies.html\", 'r')"
   ]
  },
  {
   "cell_type": "code",
   "execution_count": 48,
   "metadata": {},
   "outputs": [],
   "source": [
    "class MyHTMLParser(HTMLParser):\n",
    "    def __init__(self):\n",
    "        self.d = []\n",
    "        self.info = [] # This list will be useful to get the info from the infobox of wikipedia\n",
    "        self.tag = [] # We will use that to know when we have to stop retrieving the paragraphs\n",
    "        super().__init__()\n",
    "\n",
    "    def handle_starttag(self, tag, attrs):\n",
    "        self.tag = []\n",
    "        self.tag.append(tag)\n",
    "        return(tag)\n",
    "        \n",
    "    def handle_data(self, data):\n",
    "        if data.startswith('https'):\n",
    "            self.d.append(data)\n",
    "        else:\n",
    "            self.info.append(data)\n",
    "        return(data)\n",
    "\n",
    "    def return_data(self):\n",
    "        return(self.d)\n",
    "    \n",
    "    def return_info(self):\n",
    "        return(self.info)\n",
    "    \n",
    "    def return_tag(self):\n",
    "        if len(self.tag)!= 0:\n",
    "            return(self.tag[0])\n",
    "    \n",
    "# To check if it is an url, we check if it begins with \"https\""
   ]
  },
  {
   "cell_type": "code",
   "execution_count": 49,
   "metadata": {},
   "outputs": [],
   "source": [
    "urls = []\n",
    "\n",
    "parser = MyHTMLParser()\n",
    "for item in list(link):\n",
    "    parser.feed(item)\n",
    "    urls += parser.return_data()\n",
    "parser.close()"
   ]
  },
  {
   "cell_type": "code",
   "execution_count": 50,
   "metadata": {},
   "outputs": [
    {
     "data": {
      "text/plain": [
       "10000"
      ]
     },
     "execution_count": 50,
     "metadata": {},
     "output_type": "execute_result"
    }
   ],
   "source": [
    "len(urls)"
   ]
  },
  {
   "cell_type": "code",
   "execution_count": 55,
   "metadata": {},
   "outputs": [
    {
     "name": "stdout",
     "output_type": "stream",
     "text": [
      "error\n",
      "404\n",
      "404\n",
      "404\n"
     ]
    }
   ],
   "source": [
    "for url in urls:\n",
    "    try:\n",
    "        name = 'C:/Users/chari/PRIM/moviesfolder/'+ url.split(\"/\")[-1] + '.html'\n",
    "        urllib.request.urlretrieve(url, name)\n",
    "    except urllib.error.HTTPError as err:\n",
    "        print(err.code)\n",
    "    except Exception :\n",
    "        print(\"error\")"
   ]
  },
  {
   "cell_type": "markdown",
   "metadata": {},
   "source": [
    "## Preprocessing the data"
   ]
  },
  {
   "cell_type": "code",
   "execution_count": 107,
   "metadata": {},
   "outputs": [],
   "source": [
    "for link_movie in os.listdir(\"moviesfolder\"):\n",
    "    tot = []\n",
    "    A = []\n",
    "    B = []\n",
    "    \n",
    "    try:\n",
    "        file = open(\"moviesfolder/\" + link_movie, encoding='utf8')\n",
    "        soup = BeautifulSoup(file, 'html.parser')\n",
    "        \n",
    "        # We have to check if the page refers to a film or is a disambiguous page. We do not want to save the disambiguous ones.\n",
    "        disambiguous = soup.find(\"table\", {\"id\" : \"disambigbox\"})\n",
    "        \n",
    "        if disambiguous is not None :\n",
    "            continue\n",
    "            \n",
    "        # We get the title of the film\n",
    "\n",
    "        # We put a condition to ONLY retrieve the title of the film, without the parenthesis containing the word \"movie\" and the year\n",
    "\n",
    "        if soup.select_one('#firstHeading').find(\"i\") != None:\n",
    "\n",
    "            title = soup.select_one('#firstHeading').find(\"i\").text\n",
    "\n",
    "        else:\n",
    "\n",
    "            title  = soup.select_one('#firstHeading').text   \n",
    "\n",
    "        tot.append(title)\n",
    "\n",
    "        # We get the intro and the plot (1st and 2nd sections)\n",
    "\n",
    "        intro = ''\n",
    "        plot = ''\n",
    "\n",
    "\n",
    "        # We get the intro first\n",
    "\n",
    "        tag  = soup.select_one('p')\n",
    "\n",
    "        if tag != None:\n",
    "\n",
    "            if tag.find_parent('table') == None and tag.text!=\"\\n\": # We get the intro if it is not a simple \"\\n\".\n",
    "                while tag.name == 'p':\n",
    "                    intro+=tag.text\n",
    "                    tag = tag.find_next_sibling()\n",
    "\n",
    "\n",
    "            else: # If the paragraph is in the infobox, we don't append the text but look for the next section\n",
    "\n",
    "                while tag.text == \"\\n\" or tag.find_parent('table') != None :\n",
    "                    tag = tag.find_next(\"p\")\n",
    "\n",
    "\n",
    "                while tag.name == 'p': # While we encounter <p> tags, we add them to the intro. Once a different tag is found, it would mean that we reached the end of the intro\n",
    "                    intro+=tag.text\n",
    "                    tag = tag.find_next_sibling()\n",
    "\n",
    "\n",
    "            # We can now retrieve the second section\n",
    "\n",
    "            tag = tag.find_next(\"p\") # Now that we left the loop, we are looking for the first p, which would mean we entered the second section\n",
    "\n",
    "            if tag!= None:\n",
    "\n",
    "                if tag.find_parent('table') == None and tag.next!=\"\\n\" and tag.find_parent('blockquote') == None: # We added a condition on blockquote : we mustn't add quotes as a paragraph ! It's important since some wikipedia pages have an intro in which there is a quote.\n",
    "                    while tag.name == 'p':                    \n",
    "                        plot+=tag.text\n",
    "                        tag = tag.find_next_sibling()\n",
    "\n",
    "\n",
    "                else:\n",
    "                    while tag.text == \"\\n\" or tag.find_parent('table') != None or tag.find_parent('blockquote') != None:\n",
    "                        tag = tag.find_next(\"p\")\n",
    "\n",
    "\n",
    "                    while tag.name == 'p':\n",
    "                        plot+=tag.text\n",
    "                        tag = tag.find_next_sibling()\n",
    "            else:\n",
    "                pass\n",
    "\n",
    "        else :\n",
    "            pass\n",
    "\n",
    "\n",
    "        if intro != \"\":\n",
    "            intro = intro.replace(\"\\n\", \"\")\n",
    "            tot.append(intro)\n",
    "        else :\n",
    "            pass\n",
    "\n",
    "        if plot != \"\":\n",
    "            plot = plot.replace(\"\\n\", \"\")\n",
    "            tot.append(plot)\n",
    "        else :\n",
    "            pass\n",
    "\n",
    "\n",
    "        nametsv = \"textsfolder/\" + link_movie[:-5] + \".txt\"\n",
    "        with open(nametsv, 'w') as f_output:   \n",
    "            f_output.write(\"\\n\".join(tot))\n",
    "\n",
    "            \n",
    "    except Exception:\n",
    "        pass"
   ]
  },
  {
   "cell_type": "markdown",
   "metadata": {},
   "source": [
    "## Creating the encoding (with transformers) and storing them"
   ]
  },
  {
   "cell_type": "code",
   "execution_count": 3,
   "metadata": {},
   "outputs": [],
   "source": [
    "def store_data(name_output = \"encoding.ann\"):\n",
    "    \n",
    "    model = SentenceTransformer('distilbert-base-nli-stsb-mean-tokens')\n",
    "\n",
    "    f = 768\n",
    "    t = AnnoyIndex(f, 'angular')  # Length of item vector that will be indexed\n",
    "    \n",
    "    with open(\"idsmovies/ids.txt\", 'w') as id_and_names :\n",
    "    \n",
    "        for i,valeur in enumerate(os.listdir(\"textsfolder\")):\n",
    "            all_text = []\n",
    "            with open(\"textsfolder/\" + valeur, 'r') as f:   \n",
    "                for line in f:\n",
    "                    all_text.append(line)\n",
    "\n",
    "            try:\n",
    "                \n",
    "                v = model.encode(\" \".join(all_text[1:]))\n",
    "                t.add_item(i, v)\n",
    "\n",
    "                id_and_names.write(str(i) + \" \" + all_text[0])\n",
    "                \n",
    "            except:\n",
    "                \n",
    "                print(valeur)\n",
    "\n",
    "    t.build(10) # 10 trees\n",
    "    t.save(name_output)\n",
    "\n",
    "    print(\"Done\")"
   ]
  },
  {
   "cell_type": "code",
   "execution_count": 4,
   "metadata": {},
   "outputs": [],
   "source": [
    "def load_corpus(file_name = 'encoding.ann'):\n",
    "    f = 768\n",
    "    u = AnnoyIndex(f, 'angular')\n",
    "    u.load(file_name)\n",
    "    return u\n",
    "\n",
    "def import_enc(file_name = \"encoding.ann\"):\n",
    "    model = SentenceTransformer('distilbert-base-nli-stsb-mean-tokens')\n",
    "    embeddings = load_corpus(file_name)\n",
    "    return(model, embeddings)\n",
    "\n",
    "def produce_prediction(query_text, model, embeddings, top_n = 3):\n",
    "    query = model.encode(query_text)\n",
    "    nearest = embeddings.get_nns_by_vector(query, top_n, include_distances = True)\n",
    "    return nearest"
   ]
  },
  {
   "cell_type": "markdown",
   "metadata": {},
   "source": [
    "## Storing the embeddings"
   ]
  },
  {
   "cell_type": "code",
   "execution_count": 5,
   "metadata": {},
   "outputs": [
    {
     "name": "stdout",
     "output_type": "stream",
     "text": [
      "10_(film).txt\n",
      "American_Graffiti.txt\n",
      "A_Bridge_Too_Far_(film).txt\n",
      "A_Matter_of_Time_(1976_film).txt\n",
      "Being_There.txt\n",
      "Bridge_to_the_Sun.txt\n",
      "Charly.txt\n",
      "Chetniks!_The_Fighting_Guerrillas.txt\n",
      "Conquest_(1937_film).txt\n",
      "Dark_Star_(film).txt\n",
      "Five_Graves_to_Cairo.txt\n",
      "Gigi_(1958_film).txt\n",
      "Godzilla,_King_of_the_Monsters!.txt\n",
      "Green_Fields_(film).txt\n",
      "Hatari!.txt\n",
      "Hawaii_(1966_film).txt\n",
      "Head_(film).txt\n",
      "Hell_in_the_Pacific.txt\n",
      "He_Who_Gets_Slapped.txt\n",
      "Honolulu_(film).txt\n",
      "I%27ll_Never_Heil_Again.txt\n",
      "Irma_la_Douce.txt\n",
      "Island_in_the_Sky_(1953_film).txt\n",
      "King_Kong_Escapes.txt\n",
      "Kissin%27_Cousins.txt\n",
      "Lost_Command.txt\n",
      "Love_At_First_Bite.txt\n",
      "Men_in_White_(1934_film).txt\n",
      "Midnight_Express_(film).txt\n",
      "Mr._B_Natural.txt\n",
      "Mr._Imperium.txt\n",
      "Mutiny_on_the_Bounty_(1962_film).txt\n",
      "None_But_The_Brave.txt\n",
      "One,_Two,_Three.txt\n",
      "One_Froggy_Evening.txt\n",
      "Party_at_Kitty_and_Stud%27s.txt\n",
      "Phaedra_(film).txt\n",
      "Public_Hero_No._1.txt\n",
      "Raid_on_Entebbe_(film).txt\n",
      "Red_Sun.txt\n",
      "Retreat,_Hell!.txt\n",
      "Rio_Bravo_(film).txt\n",
      "Sybil_(1976_film).txt\n",
      "Tabu_(1931_film).txt\n",
      "Tattoo_(1981_film).txt\n",
      "That_Forsyte_Woman.txt\n",
      "The_Barbarian_and_the_Geisha.txt\n",
      "The_Beastmaster_(film).txt\n",
      "The_Bushbaby.txt\n",
      "The_Chocolate_Soldier_(film).txt\n",
      "The_Constant_Nymph_(1943_film).txt\n",
      "The_Crimson_City.txt\n",
      "The_Decks_Ran_Red.txt\n",
      "The_Great_Escape_(film).txt\n",
      "The_Great_Train_Robbery_(1903_film).txt\n",
      "The_Guardsman.txt\n",
      "The_Island_at_the_Top_of_the_World.txt\n",
      "The_Last_Unicorn_(film).txt\n",
      "The_Lost_Letter_(1945_film).txt\n",
      "The_Manster.txt\n",
      "The_Man_Who_Shot_Liberty_Valance.txt\n",
      "The_Naked_Spur.txt\n",
      "The_Omega_Man.txt\n",
      "The_Russians_Are_Coming,_the_Russians_Are_Coming.txt\n",
      "The_Teahouse_of_the_August_Moon_(film).txt\n",
      "Tokyo_File_212.txt\n",
      "Topkapi_(film).txt\n",
      "Tora!_Tora!_Tora!.txt\n",
      "Torn_Curtain.txt\n",
      "Tortoise_Beats_Hare.txt\n",
      "Under_the_Southern_Cross_(1929).txt\n",
      "Winter_Kills_(film).txt\n",
      "Yiddle_with_His_Fiddle.txt\n",
      "Zabriskie_Point_(film).txt\n",
      "Done\n"
     ]
    }
   ],
   "source": [
    "store_data()"
   ]
  },
  {
   "cell_type": "code",
   "execution_count": 6,
   "metadata": {},
   "outputs": [],
   "source": [
    "model, embeddings = import_enc()"
   ]
  },
  {
   "cell_type": "code",
   "execution_count": 27,
   "metadata": {},
   "outputs": [],
   "source": [
    "dict_ids_names = {}\n",
    "with open(\"idsmovies/ids.txt\") as ids_movies:\n",
    "    for line in ids_movies:\n",
    "        split_line = line.strip(\"\\n\").split(\" \")\n",
    "        dict_ids_names[int(split_line[0])] = \" \".join(split_line[1:])"
   ]
  },
  {
   "cell_type": "code",
   "execution_count": 52,
   "metadata": {},
   "outputs": [],
   "source": [
    "pred = produce_prediction(\"The Godfather is a film produced by Francis Ford Coppola and which was created in 1972 \", model, embeddings)"
   ]
  },
  {
   "cell_type": "code",
   "execution_count": 53,
   "metadata": {},
   "outputs": [
    {
     "name": "stdout",
     "output_type": "stream",
     "text": [
      "The Godfather\n",
      "The Godfather Part II\n",
      "Crazy Joe\n"
     ]
    }
   ],
   "source": [
    "for prediction in pred[0] :\n",
    "    print(dict_ids_names[prediction])"
   ]
  },
  {
   "cell_type": "code",
   "execution_count": 57,
   "metadata": {},
   "outputs": [
    {
     "data": {
      "text/plain": [
       "[7280, 7281, 1632]"
      ]
     },
     "execution_count": 57,
     "metadata": {},
     "output_type": "execute_result"
    }
   ],
   "source": [
    "pred[0]"
   ]
  },
  {
   "cell_type": "code",
   "execution_count": 60,
   "metadata": {},
   "outputs": [
    {
     "data": {
      "text/plain": [
       "[7281, 7280]"
      ]
     },
     "execution_count": 60,
     "metadata": {},
     "output_type": "execute_result"
    }
   ],
   "source": [
    "embeddings.get_nns_by_item(7281, 2)"
   ]
  },
  {
   "cell_type": "markdown",
   "metadata": {},
   "source": [
    "This is logical, since The Godfather 1 is close to The Godfather 2. \n",
    "\n",
    "It seems that the model works well."
   ]
  }
 ],
 "metadata": {
  "kernelspec": {
   "display_name": "Python 3",
   "language": "python",
   "name": "python3"
  },
  "language_info": {
   "codemirror_mode": {
    "name": "ipython",
    "version": 3
   },
   "file_extension": ".py",
   "mimetype": "text/x-python",
   "name": "python",
   "nbconvert_exporter": "python",
   "pygments_lexer": "ipython3",
   "version": "3.7.4"
  }
 },
 "nbformat": 4,
 "nbformat_minor": 2
}
