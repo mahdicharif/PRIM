{
 "cells": [
  {
   "cell_type": "code",
   "execution_count": 24,
   "metadata": {},
   "outputs": [],
   "source": [
    "from lxml import etree\n",
    "from lxml.etree import tostring, parse\n",
    "import wikitextparser as wtp\n",
    "import pandas as pd\n",
    "import re\n",
    "import networkx as nx\n",
    "import mwparserfromhell \n",
    "from annoy import AnnoyIndex\n",
    "from sentence_transformers import SentenceTransformer,util\n",
    "import torch\n",
    "import os\n",
    "import matplotlib.pyplot as plt\n",
    "from functools import reduce"
   ]
  },
  {
   "cell_type": "markdown",
   "metadata": {},
   "source": [
    "# Graph et similarité entre les textes"
   ]
  },
  {
   "cell_type": "code",
   "execution_count": 2,
   "metadata": {},
   "outputs": [],
   "source": [
    "import bz2\n",
    "import subprocess"
   ]
  },
  {
   "cell_type": "code",
   "execution_count": 3,
   "metadata": {},
   "outputs": [],
   "source": [
    "data_path = 'enwiki-20201001-pages-articles1.xml-p1p41242.bz2'"
   ]
  },
  {
   "cell_type": "code",
   "execution_count": 4,
   "metadata": {},
   "outputs": [],
   "source": [
    "lines = []\n",
    "for i, line in enumerate(bz2.BZ2File(data_path, 'r')):\n",
    "    lines.append(line)\n",
    "    if i > 5e5:\n",
    "        break"
   ]
  },
  {
   "cell_type": "code",
   "execution_count": 5,
   "metadata": {},
   "outputs": [],
   "source": [
    "import xml.sax\n",
    "\n",
    "class WikiXmlHandler(xml.sax.handler.ContentHandler):\n",
    "    \"\"\"Content handler for Wiki XML data using SAX\"\"\"\n",
    "    def __init__(self):\n",
    "        xml.sax.handler.ContentHandler.__init__(self)\n",
    "        self._buffer = None\n",
    "        self._values = {}\n",
    "        self._current_tag = None\n",
    "        self._pages = []\n",
    "\n",
    "    def characters(self, content):\n",
    "        \"\"\"Characters between opening and closing tags\"\"\"\n",
    "        if self._current_tag:\n",
    "            self._buffer.append(content)\n",
    "\n",
    "    def startElement(self, name, attrs):\n",
    "        \"\"\"Opening tag of element\"\"\"\n",
    "        if name in ('title', 'text'):\n",
    "            self._current_tag = name\n",
    "            self._buffer = []\n",
    "\n",
    "    def endElement(self, name):\n",
    "        \"\"\"Closing tag of element\"\"\"\n",
    "        if name == self._current_tag:\n",
    "            self._values[name] = ' '.join(self._buffer)\n",
    "\n",
    "        if name == 'page':\n",
    "            if \"disambiguation\" not in self._values['text']:\n",
    "                self._pages.append((self._values['title'], self._values['text']))"
   ]
  },
  {
   "cell_type": "code",
   "execution_count": 6,
   "metadata": {},
   "outputs": [
    {
     "data": {
      "text/plain": [
       "[]"
      ]
     },
     "execution_count": 6,
     "metadata": {},
     "output_type": "execute_result"
    }
   ],
   "source": [
    "# Content handler for Wiki XML\n",
    "handler = WikiXmlHandler()\n",
    "\n",
    "# Parsing object\n",
    "parser = xml.sax.make_parser()\n",
    "parser.setContentHandler(handler)\n",
    "\n",
    "handler._pages"
   ]
  },
  {
   "cell_type": "code",
   "execution_count": 7,
   "metadata": {},
   "outputs": [],
   "source": [
    "# Object for handling xml\n",
    "handler = WikiXmlHandler()\n",
    "\n",
    "# Parsing object\n",
    "parser = xml.sax.make_parser()\n",
    "parser.setContentHandler(handler)\n",
    "\n",
    "for line in bz2.BZ2File(data_path, 'r'):\n",
    "    parser.feed(line)\n",
    "\n",
    "    if len(handler._pages) > 1000:\n",
    "        break"
   ]
  },
  {
   "cell_type": "markdown",
   "metadata": {},
   "source": [
    "## Node links - Graph"
   ]
  },
  {
   "cell_type": "code",
   "execution_count": 8,
   "metadata": {},
   "outputs": [],
   "source": [
    "def cleanhtml(raw_html):\n",
    "    cleanr = re.compile('<.*?>')\n",
    "    cleantext = re.sub(cleanr, '', raw_html)\n",
    "    return cleantext"
   ]
  },
  {
   "cell_type": "code",
   "execution_count": 9,
   "metadata": {},
   "outputs": [],
   "source": [
    "node_a = []\n",
    "node_b = []\n",
    "ids = []\n",
    "\n",
    "ids_articles = []\n",
    "article_name = []\n",
    "text_article = []\n",
    "\n",
    "i = 1\n",
    "k = 1\n",
    "\n",
    "for p in handler._pages:\n",
    "    chosen_page = p\n",
    "    wiki = mwparserfromhell.parse(chosen_page[1])\n",
    "    \n",
    "    ids_articles.append(k)\n",
    "    k+=1\n",
    "    article_name.append(chosen_page[0])\n",
    "    \n",
    "    tr = wiki.strip_code().strip()\n",
    "    cleaned_text = cleanhtml(tr)\n",
    "\n",
    "    text_article.append(cleaned_text.split(\"\\n\")[0])\n",
    "    \n",
    "    wikilinks = [x.title for x in wiki.filter_wikilinks()]\n",
    "    if wikilinks != []:\n",
    "        for wik in wikilinks:\n",
    "            ids.append(i)\n",
    "            node_a.append(chosen_page[0])\n",
    "            node_b.append(str(wik))\n",
    "        i += len(wikilinks)"
   ]
  },
  {
   "cell_type": "code",
   "execution_count": 10,
   "metadata": {},
   "outputs": [],
   "source": [
    "dict_articles = {\"ID_Article\": ids, \"Name_article\" : node_a, \"Outgoing_links\" : node_b}\n",
    "links_nodes = pd.DataFrame(data = dict_articles) "
   ]
  },
  {
   "cell_type": "code",
   "execution_count": 11,
   "metadata": {},
   "outputs": [
    {
     "data": {
      "text/html": [
       "<div>\n",
       "<style scoped>\n",
       "    .dataframe tbody tr th:only-of-type {\n",
       "        vertical-align: middle;\n",
       "    }\n",
       "\n",
       "    .dataframe tbody tr th {\n",
       "        vertical-align: top;\n",
       "    }\n",
       "\n",
       "    .dataframe thead th {\n",
       "        text-align: right;\n",
       "    }\n",
       "</style>\n",
       "<table border=\"1\" class=\"dataframe\">\n",
       "  <thead>\n",
       "    <tr style=\"text-align: right;\">\n",
       "      <th></th>\n",
       "      <th>ID_Article</th>\n",
       "      <th>Name_article</th>\n",
       "      <th>Outgoing_links</th>\n",
       "    </tr>\n",
       "  </thead>\n",
       "  <tbody>\n",
       "    <tr>\n",
       "      <td>176751</td>\n",
       "      <td>176338</td>\n",
       "      <td>Analgesic</td>\n",
       "      <td>Congenital insensitivity to pain</td>\n",
       "    </tr>\n",
       "    <tr>\n",
       "      <td>176752</td>\n",
       "      <td>176338</td>\n",
       "      <td>Analgesic</td>\n",
       "      <td>Category:Analgesics</td>\n",
       "    </tr>\n",
       "    <tr>\n",
       "      <td>176753</td>\n",
       "      <td>176338</td>\n",
       "      <td>Analgesic</td>\n",
       "      <td>Category:Pain</td>\n",
       "    </tr>\n",
       "    <tr>\n",
       "      <td>176754</td>\n",
       "      <td>176338</td>\n",
       "      <td>Analgesic</td>\n",
       "      <td>Category:Opioids</td>\n",
       "    </tr>\n",
       "    <tr>\n",
       "      <td>176755</td>\n",
       "      <td>176338</td>\n",
       "      <td>Analgesic</td>\n",
       "      <td>Category:Agnosia</td>\n",
       "    </tr>\n",
       "  </tbody>\n",
       "</table>\n",
       "</div>"
      ],
      "text/plain": [
       "        ID_Article Name_article                    Outgoing_links\n",
       "176751      176338    Analgesic  Congenital insensitivity to pain\n",
       "176752      176338    Analgesic               Category:Analgesics\n",
       "176753      176338    Analgesic                     Category:Pain\n",
       "176754      176338    Analgesic                  Category:Opioids\n",
       "176755      176338    Analgesic                  Category:Agnosia"
      ]
     },
     "execution_count": 11,
     "metadata": {},
     "output_type": "execute_result"
    }
   ],
   "source": [
    "links_nodes.tail()"
   ]
  },
  {
   "cell_type": "code",
   "execution_count": 15,
   "metadata": {},
   "outputs": [
    {
     "data": {
      "image/png": "[encoded data removed]",
      "text/plain": [
       "<Figure size 432x288 with 1 Axes>"
      ]
     },
     "metadata": {},
     "output_type": "display_data"
    }
   ],
   "source": [
    "g = nx.from_pandas_edgelist(links_nodes[-20:], source='Name_article', target='Outgoing_links') \n",
    "nx.draw(g, with_labels=True)\n",
    "plt.savefig(\"exemple_graph_articles.png\")\n",
    "plt.show()"
   ]
  },
  {
   "cell_type": "markdown",
   "metadata": {},
   "source": [
    "## Text Similarity"
   ]
  },
  {
   "cell_type": "markdown",
   "metadata": {},
   "source": [
    "Je vais utiliser le premier paragraphe pour calculer la similarité entre les documents. Autrement, j'aurais beaucoup trop de caractères spéciaux qui, malgré le preprocessing effectuées auparavant, n'ont pas tous été supprimés."
   ]
  },
  {
   "cell_type": "code",
   "execution_count": 16,
   "metadata": {},
   "outputs": [],
   "source": [
    "dict_texts = {\"ID_Article\": ids_articles, \"Name_article\" : article_name, \"Text_article\" : text_article}\n",
    "text_articles = pd.DataFrame(data = dict_texts) "
   ]
  },
  {
   "cell_type": "code",
   "execution_count": 17,
   "metadata": {},
   "outputs": [
    {
     "data": {
      "text/html": [
       "<div>\n",
       "<style scoped>\n",
       "    .dataframe tbody tr th:only-of-type {\n",
       "        vertical-align: middle;\n",
       "    }\n",
       "\n",
       "    .dataframe tbody tr th {\n",
       "        vertical-align: top;\n",
       "    }\n",
       "\n",
       "    .dataframe thead th {\n",
       "        text-align: right;\n",
       "    }\n",
       "</style>\n",
       "<table border=\"1\" class=\"dataframe\">\n",
       "  <thead>\n",
       "    <tr style=\"text-align: right;\">\n",
       "      <th></th>\n",
       "      <th>ID_Article</th>\n",
       "      <th>Name_article</th>\n",
       "      <th>Text_article</th>\n",
       "    </tr>\n",
       "  </thead>\n",
       "  <tbody>\n",
       "    <tr>\n",
       "      <td>996</td>\n",
       "      <td>997</td>\n",
       "      <td>Antipope John XXIII</td>\n",
       "      <td>Baldassarre Cossa (c. 1370 – 22 December 1419)...</td>\n",
       "    </tr>\n",
       "    <tr>\n",
       "      <td>997</td>\n",
       "      <td>998</td>\n",
       "      <td>Antonio Salieri</td>\n",
       "      <td>thumb|upright|Portrait of Salieri by Joseph Wi...</td>\n",
       "    </tr>\n",
       "    <tr>\n",
       "      <td>998</td>\n",
       "      <td>999</td>\n",
       "      <td>Cobble Hill Tunnel</td>\n",
       "      <td>The Cobble Hill Tunnel (also known as the Atla...</td>\n",
       "    </tr>\n",
       "    <tr>\n",
       "      <td>999</td>\n",
       "      <td>1000</td>\n",
       "      <td>Annapolis Valley</td>\n",
       "      <td>The Annapolis Valley is a valley and region in...</td>\n",
       "    </tr>\n",
       "    <tr>\n",
       "      <td>1000</td>\n",
       "      <td>1001</td>\n",
       "      <td>Analgesic</td>\n",
       "      <td>An analgesic or painkiller is any member of th...</td>\n",
       "    </tr>\n",
       "  </tbody>\n",
       "</table>\n",
       "</div>"
      ],
      "text/plain": [
       "      ID_Article         Name_article  \\\n",
       "996          997  Antipope John XXIII   \n",
       "997          998      Antonio Salieri   \n",
       "998          999   Cobble Hill Tunnel   \n",
       "999         1000     Annapolis Valley   \n",
       "1000        1001            Analgesic   \n",
       "\n",
       "                                           Text_article  \n",
       "996   Baldassarre Cossa (c. 1370 – 22 December 1419)...  \n",
       "997   thumb|upright|Portrait of Salieri by Joseph Wi...  \n",
       "998   The Cobble Hill Tunnel (also known as the Atla...  \n",
       "999   The Annapolis Valley is a valley and region in...  \n",
       "1000  An analgesic or painkiller is any member of th...  "
      ]
     },
     "execution_count": 17,
     "metadata": {},
     "output_type": "execute_result"
    }
   ],
   "source": [
    "text_articles.tail()"
   ]
  },
  {
   "cell_type": "code",
   "execution_count": 18,
   "metadata": {},
   "outputs": [],
   "source": [
    "def store_data(data, name_output = \"articles_encoding.ann\"):\n",
    "    \n",
    "    model = SentenceTransformer('distilbert-base-nli-stsb-mean-tokens')\n",
    "\n",
    "    f = 768\n",
    "    t = AnnoyIndex(f, 'angular')  # Length of item vector that will be indexed\n",
    "    \n",
    "    for i, row in data.iterrows():\n",
    "        text_art = row[\"Text_article\"]\n",
    "        if len(text_art.split(\" \")) > 10:\n",
    "            try:\n",
    "\n",
    "                v = model.encode(text_art)\n",
    "                t.add_item(row[\"ID_Article\"], v)\n",
    "\n",
    "            except:\n",
    "\n",
    "                print(text_art)\n",
    "\n",
    "    t.build(10) # 10 trees\n",
    "    t.save(name_output)\n",
    "\n",
    "    print(\"Done\")"
   ]
  },
  {
   "cell_type": "code",
   "execution_count": 19,
   "metadata": {},
   "outputs": [
    {
     "name": "stdout",
     "output_type": "stream",
     "text": [
      "Done\n"
     ]
    }
   ],
   "source": [
    "store_data(text_articles)"
   ]
  },
  {
   "cell_type": "code",
   "execution_count": 20,
   "metadata": {},
   "outputs": [],
   "source": [
    "def load_corpus(file_name):\n",
    "    f = 768\n",
    "    u = AnnoyIndex(f, 'angular')\n",
    "    u.load(file_name)\n",
    "    return u\n",
    "\n",
    "def import_enc(file_name = \"articles_encoding.ann\"):\n",
    "    model = SentenceTransformer('distilbert-base-nli-stsb-mean-tokens')\n",
    "    embeddings = load_corpus(file_name)\n",
    "    return(model, embeddings)\n",
    "\n",
    "def produce_prediction(query_text, model, embeddings, top_n = 3):\n",
    "    query = model.encode(query_text)\n",
    "    nearest = embeddings.get_nns_by_vector(query, top_n, include_distances = True)\n",
    "    return nearest"
   ]
  },
  {
   "cell_type": "code",
   "execution_count": 21,
   "metadata": {},
   "outputs": [],
   "source": [
    "model, embeddings = import_enc()"
   ]
  },
  {
   "cell_type": "code",
   "execution_count": 25,
   "metadata": {},
   "outputs": [
    {
     "data": {
      "text/html": [
       "<div>\n",
       "<style scoped>\n",
       "    .dataframe tbody tr th:only-of-type {\n",
       "        vertical-align: middle;\n",
       "    }\n",
       "\n",
       "    .dataframe tbody tr th {\n",
       "        vertical-align: top;\n",
       "    }\n",
       "\n",
       "    .dataframe thead th {\n",
       "        text-align: right;\n",
       "    }\n",
       "</style>\n",
       "<table border=\"1\" class=\"dataframe\">\n",
       "  <thead>\n",
       "    <tr style=\"text-align: right;\">\n",
       "      <th></th>\n",
       "      <th>ID_Article</th>\n",
       "      <th>Name_article</th>\n",
       "      <th>Text_article</th>\n",
       "    </tr>\n",
       "  </thead>\n",
       "  <tbody>\n",
       "    <tr>\n",
       "      <td>999</td>\n",
       "      <td>1000</td>\n",
       "      <td>Annapolis Valley</td>\n",
       "      <td>The Annapolis Valley is a valley and region in...</td>\n",
       "    </tr>\n",
       "    <tr>\n",
       "      <td>309</td>\n",
       "      <td>310</td>\n",
       "      <td>Aalborg Municipality</td>\n",
       "      <td>Aalborg Municipality is a municipality (Danish...</td>\n",
       "    </tr>\n",
       "    <tr>\n",
       "      <td>459</td>\n",
       "      <td>460</td>\n",
       "      <td>Park Güell</td>\n",
       "      <td>The Park Güell ( ; ) is a public park system c...</td>\n",
       "    </tr>\n",
       "  </tbody>\n",
       "</table>\n",
       "</div>"
      ],
      "text/plain": [
       "     ID_Article          Name_article  \\\n",
       "999        1000      Annapolis Valley   \n",
       "309         310  Aalborg Municipality   \n",
       "459         460            Park Güell   \n",
       "\n",
       "                                          Text_article  \n",
       "999  The Annapolis Valley is a valley and region in...  \n",
       "309  Aalborg Municipality is a municipality (Danish...  \n",
       "459  The Park Güell ( ; ) is a public park system c...  "
      ]
     },
     "execution_count": 25,
     "metadata": {},
     "output_type": "execute_result"
    }
   ],
   "source": [
    "pred = produce_prediction(\"The Annapolis Valley is a valley and region in the Canadian province of Nova Scotia. It is located in the western part of the Nova Scotia peninsula, formed by a trough between two parallel mountain ranges along the shore of the Bay of Fundy. Statistics Canada defines the Annapolis Valley as an economic region, composed of Annapolis County, Kings County, and Hants County. \", model, embeddings)\n",
    "\n",
    "pred_df = reduce(pd.DataFrame.append, map(lambda i: text_articles[text_articles.ID_Article == i], pred[0]))\n",
    "pred_df"
   ]
  }
 ],
 "metadata": {
  "kernelspec": {
   "display_name": "Python 3",
   "language": "python",
   "name": "python3"
  },
  "language_info": {
   "codemirror_mode": {
    "name": "ipython",
    "version": 3
   },
   "file_extension": ".py",
   "mimetype": "text/x-python",
   "name": "python",
   "nbconvert_exporter": "python",
   "pygments_lexer": "ipython3",
   "version": "3.7.4"
  }
 },
 "nbformat": 4,
 "nbformat_minor": 2
}
