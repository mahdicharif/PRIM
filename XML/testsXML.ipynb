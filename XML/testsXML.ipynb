{
 "cells": [
  {
   "cell_type": "code",
   "execution_count": 1,
   "metadata": {},
   "outputs": [],
   "source": [
    "from lxml import etree\n",
    "from lxml.etree import tostring, parse\n",
    "import wikitextparser as wtp\n",
    "import pandas as pd\n",
    "import re"
   ]
  },
  {
   "cell_type": "code",
   "execution_count": 2,
   "metadata": {},
   "outputs": [],
   "source": [
    "text = open(\"Wikipedia-20201015222842.xml\", encoding = \"UTF-8\").read()\n",
    "parsed = wtp.parse(text)\n",
    "in_links = parsed.wikilinks"
   ]
  },
  {
   "cell_type": "code",
   "execution_count": 3,
   "metadata": {},
   "outputs": [
    {
     "data": {
      "text/plain": [
       "['WP:AWB/GF',\n",
       " 'WP:AWB/T',\n",
       " 'Inter Milan',\n",
       " 'Rosario, Santa Fe',\n",
       " 'Striker (association football)',\n",
       " 'Paris Saint-Germain F.C.',\n",
       " 'UD Vecindario',\n",
       " 'FC Barcelona',\n",
       " 'U.C. Sampdoria',\n",
       " 'U.C. Sampdoria',\n",
       " 'Inter Milan',\n",
       " 'Paris Saint-Germain F.C.',\n",
       " 'Paris Saint-Germain F.C.',\n",
       " 'Argentina national under-20 football team',\n",
       " 'Argentina national football team',\n",
       " 'Association football',\n",
       " 'Striker (association football)',\n",
       " 'Ligue 1',\n",
       " 'Paris Saint-Germain F.C.',\n",
       " 'Argentina national football team',\n",
       " 'La Masia',\n",
       " 'La Liga',\n",
       " 'FC Barcelona',\n",
       " 'Serie A',\n",
       " 'U.C. Sampdoria',\n",
       " 'Inter Milan',\n",
       " 'Capocannoniere',\n",
       " '2014–15 Serie A',\n",
       " '2017–18 Serie A',\n",
       " 'Luca Toni',\n",
       " 'Ciro Immobile',\n",
       " 'UEFA Champions League',\n",
       " 'List of Inter Milan records and statistics',\n",
       " 'Argentina national football team',\n",
       " '2018 FIFA World Cup',\n",
       " 'Wanda Nara',\n",
       " 'Maxi López',\n",
       " 'Rosario, Santa Fe',\n",
       " 'Canary Islands',\n",
       " 'UD Vecindario',\n",
       " 'Gran Canaria',\n",
       " 'FC Barcelona',\n",
       " 'Real Madrid C.F.',\n",
       " 'Valencia CF',\n",
       " 'Sevilla FC',\n",
       " 'RCD Espanyol',\n",
       " 'Deportivo de La Coruña',\n",
       " 'Arsenal F.C.',\n",
       " 'Liverpool F.C.',\n",
       " '2008–09 FC Barcelona season',\n",
       " 'FC Barcelona Juvenil A',\n",
       " 'U.C. Sampdoria',\n",
       " 'File:MauroIcardi.jpg',\n",
       " 'U.C. Sampdoria',\n",
       " 'Gonzalo Barreto',\n",
       " 'S.S. Juve Stabia',\n",
       " 'Bruno Fornaroli',\n",
       " 'Serie A',\n",
       " 'A.S. Roma',\n",
       " 'Marcelo Estigarribia',\n",
       " 'Derby della Lanterna',\n",
       " 'Genoa C.F.C.',\n",
       " 'Juventus F.C.',\n",
       " 'Juventus Stadium',\n",
       " 'Delfino Pescara 1936',\n",
       " 'Genoa',\n",
       " '2012–13 Serie A',\n",
       " '2012–13 Serie A',\n",
       " 'Stadio Luigi Ferraris',\n",
       " 'File:Avropa Liqası Muzeyi Bakıda 11.jpg',\n",
       " 'Inter Milan',\n",
       " 'Inter Milan',\n",
       " '2013–14 Serie A',\n",
       " 'Ishak Belfodil',\n",
       " 'Trentino',\n",
       " 'Exhibition match',\n",
       " 'Bundesliga',\n",
       " 'Hamburger SV',\n",
       " 'Fredy Guarín',\n",
       " 'Substitute (association football)',\n",
       " 'Genoa C.F.C.',\n",
       " 'Juventus F.C.',\n",
       " 'ACF Fiorentina',\n",
       " 'Stadio Artemio Franchi',\n",
       " 'Bologna F.C. 1909',\n",
       " 'U.C. Sampdoria',\n",
       " 'Rodrigo Palacio',\n",
       " 'Javier Zanetti',\n",
       " 'San Siro',\n",
       " 'S.S. Lazio',\n",
       " '2014–15 UEFA Europa League',\n",
       " 'Mateo Kovačić',\n",
       " 'File:Dnepr-Inter (2).jpg',\n",
       " 'Inter Milan',\n",
       " '2014–15 Inter Milan season',\n",
       " 'Stjarnan',\n",
       " '2014–15 UEFA Europa League',\n",
       " 'San Siro',\n",
       " 'Serie A',\n",
       " 'U.S. Sassuolo Calcio',\n",
       " 'Dani Osvaldo',\n",
       " 'Atalanta B.C.',\n",
       " 'A.C. Cesena',\n",
       " 'Zdravko Kuzmanović',\n",
       " 'U.C. Sampdoria',\n",
       " 'Hellas Verona F.C.',\n",
       " 'Walter Mazzarri',\n",
       " 'Roberto Mancini',\n",
       " 'Juventus F.C.',\n",
       " 'Juventus Stadium',\n",
       " 'Fredy Guarín',\n",
       " 'Genoa C.F.C.',\n",
       " 'Yahoo.com',\n",
       " 'Mapei Stadium',\n",
       " 'U.S. Città di Palermo',\n",
       " 'Empoli F.C.',\n",
       " 'Capocannoniere',\n",
       " 'Luca Toni',\n",
       " 'FourFourTwo',\n",
       " '2015–16 Inter Milan season',\n",
       " 'Andrea Ranocchia',\n",
       " 'Atalanta B.C.',\n",
       " 'Stevan Jovetić',\n",
       " 'Carpi F.C. 1909',\n",
       " 'A.C. Milan',\n",
       " 'A.C. Chievo Verona',\n",
       " 'ACF Fiorentina',\n",
       " 'Bologna F.C. 1909',\n",
       " 'Adem Ljajić',\n",
       " 'A.S. Roma',\n",
       " 'Roberto Mancini',\n",
       " 'Torino F.C.',\n",
       " 'Serie A',\n",
       " 'Frosinone Calcio',\n",
       " 'Udinese Calcio',\n",
       " 'S.S. Lazio',\n",
       " 'The Guardian',\n",
       " 'Ivan Perišić',\n",
       " 'Empoli F.C.',\n",
       " 'A.C. Chievo Verona',\n",
       " 'Manchester United F.C.',\n",
       " 'Serie A',\n",
       " 'Frosinone Calcio',\n",
       " 'A.C. Chievo Verona',\n",
       " 'U.S. Città di Palermo',\n",
       " 'Delfino Pescara 1936',\n",
       " 'Frank de Boer',\n",
       " \"Derby d'Italia\",\n",
       " 'Juventus F.C.',\n",
       " 'Ivan Perišić',\n",
       " 'Empoli F.C.',\n",
       " 'F.C. Crotone',\n",
       " 'ACF Fiorentina',\n",
       " 'S.S. Lazio',\n",
       " 'Cristiano Ronaldo',\n",
       " 'Lionel Messi',\n",
       " 'The Guardian',\n",
       " 'A.C. Chievo Verona',\n",
       " 'Zlatan Ibrahimović',\n",
       " 'Christian Vieri',\n",
       " '2016–17 Inter Milan season',\n",
       " '2016–17 UEFA Europa League group stage',\n",
       " 'Luciano Spalletti',\n",
       " 'pre-season',\n",
       " 'A.S. Roma',\n",
       " 'Stadio Olimpico',\n",
       " 'S.P.A.L. 2013',\n",
       " 'A.C. Milan',\n",
       " 'Derby della Madonnina',\n",
       " 'Diego Milito',\n",
       " 'Stadio Luigi Ferraris',\n",
       " 'Football records in Italy',\n",
       " 'A.C. ChievoVerona',\n",
       " 'Antonio Valentín Angelillo',\n",
       " 'S.S. Lazio',\n",
       " 'Capocannoniere',\n",
       " 'Ciro Immobile',\n",
       " 'Antonio Angelillo',\n",
       " '1958–59 Serie A',\n",
       " '2018–19 UEFA Champions League group stage',\n",
       " 'Tottenham Hotspur F.C.',\n",
       " 'PSV Eindhoven',\n",
       " 'Jeroen Zoet',\n",
       " 'Adriano (footballer, born 1982)',\n",
       " '2004–05 Inter Milan season',\n",
       " 'S.P.A.L.',\n",
       " 'Christian Vieri',\n",
       " 'A.C. Milan',\n",
       " 'Derby della Madonnina',\n",
       " 'Wanda Nara',\n",
       " 'Samir Handanović',\n",
       " 'UEFA Europa League',\n",
       " 'SK Rapid Wien',\n",
       " 'Genoa C.F.C.',\n",
       " 'Cristian Romero (footballer, born 1998)',\n",
       " 'Keita Balde',\n",
       " 'Romelu Lukaku',\n",
       " 'Paris Saint-Germain F.C.',\n",
       " 'RC Strasbourg Alsace',\n",
       " 'Galatasaray S.K. (football)',\n",
       " '2019–20 UEFA Champions League',\n",
       " '2019–20 Ligue 1',\n",
       " 'Angers SCO',\n",
       " 'Olympique de Marseille',\n",
       " 'hat-trick',\n",
       " 'AS Saint-Étienne',\n",
       " 'Coupe de la Ligue',\n",
       " 'COVID-19 pandemic in France',\n",
       " 'Coupe de France',\n",
       " 'Coupe de la Ligue',\n",
       " '2019-20 UEFA Champions League',\n",
       " 'Kylian Mbappé',\n",
       " 'RC Lens',\n",
       " 'Olympique de Marseille',\n",
       " 'Coronavirus disease 2019',\n",
       " 'FC Metz',\n",
       " 'ESPN',\n",
       " 'Stade de Reims',\n",
       " 'Eurosport',\n",
       " 'Italy national under-19 football team',\n",
       " 'England national under-19 football team',\n",
       " 'Argentina national under-20 football team',\n",
       " 'Marcelo Trobbiani',\n",
       " 'Germany national under-21 football team',\n",
       " 'Commerzbank-Arena',\n",
       " \"L'Alcúdia International Football Tournament\",\n",
       " 'Japan national under-20 football team',\n",
       " 'Turkey national under-20 football team',\n",
       " 'Italy national football team',\n",
       " 'Cesare Prandelli',\n",
       " 'Argentina national football team',\n",
       " 'Augusto Fernández',\n",
       " 'FIFA World Cup',\n",
       " 'Uruguay national football team',\n",
       " 'Gerardo Martino',\n",
       " 'Copa América Centenario',\n",
       " \"Football at the 2016 Summer Olympics – Men's tournament\",\n",
       " 'Lionel Messi',\n",
       " 'Maxi López',\n",
       " 'Edgardo Bauza',\n",
       " '2018 FIFA World Cup qualification (CONMEBOL)',\n",
       " 'Brazil national football team',\n",
       " 'Colombia national football team',\n",
       " 'Jorge Sampaoli',\n",
       " 'Brazil national football team',\n",
       " 'Singapore national football team',\n",
       " 'Argentina national football team',\n",
       " '2018 FIFA World Cup',\n",
       " 'Russia',\n",
       " 'Mexico national football team',\n",
       " 'Lionel Scaloni',\n",
       " '2019 Copa América',\n",
       " 'Italy national football team',\n",
       " 'Juventus F.C.',\n",
       " 'Giorgio Chiellini',\n",
       " 'Don Balón',\n",
       " 'Stefano Pioli',\n",
       " '1982 FIFA World Cup',\n",
       " 'Paolo Rossi',\n",
       " 'Gabriel Batistuta',\n",
       " \"Samuel Eto'o\",\n",
       " 'Wanda Nara',\n",
       " 'U.C. Sampdoria',\n",
       " 'Maxi López',\n",
       " 'Buenos Aires',\n",
       " 'Diego Maradona',\n",
       " 'Serie A',\n",
       " 'Torino F.C.',\n",
       " 'Italians',\n",
       " 'Piedmont',\n",
       " 'Venice',\n",
       " 'EA Sports',\n",
       " 'FIFA 16',\n",
       " 'Lionel Messi',\n",
       " 'Hublot',\n",
       " 'Genoa CFC',\n",
       " 'Coronavirus disease 2019',\n",
       " 'File:Mauro Icardi (PSG).jpg',\n",
       " 'Paris Saint-Germain F.C.',\n",
       " 'U.C. Sampdoria',\n",
       " '2011–12 Serie B',\n",
       " 'Serie B',\n",
       " '2012–13 Serie A',\n",
       " 'Serie A',\n",
       " 'Inter Milan',\n",
       " '2013–14 Inter Milan season',\n",
       " '2014–15 Inter Milan season',\n",
       " 'UEFA Europa League',\n",
       " '2015–16 Inter Milan season',\n",
       " '2016–17 Inter Milan season',\n",
       " '2017–18 Inter Milan season',\n",
       " '2018–19 Inter Milan season',\n",
       " 'UEFA Champions League',\n",
       " 'Paris Saint-Germain F.C.',\n",
       " '2019–20 Paris Saint-Germain F.C. season',\n",
       " 'Ligue 1',\n",
       " 'UEFA Champions League',\n",
       " '2020–21 Paris Saint-Germain F.C. season',\n",
       " 'Argentina national football team',\n",
       " 'Estadio Malvinas Argentinas',\n",
       " 'Mendoza, Argentina',\n",
       " 'Exhibition game',\n",
       " 'Ligue 1',\n",
       " '2019–20 Ligue 1',\n",
       " 'Coupe de France',\n",
       " '2019–20 Coupe de France',\n",
       " 'Coupe de la Ligue',\n",
       " '2019–20 Coupe de la Ligue',\n",
       " 'UEFA Champions League',\n",
       " '2019–20 UEFA Champions League',\n",
       " 'Capocannoniere',\n",
       " '2014–15 Serie A',\n",
       " '2017–18 Serie A',\n",
       " 'Serie A Team of the Year',\n",
       " 'Serie A Team of the Year',\n",
       " 'Serie A Team of the Year',\n",
       " 'Gran Galà del Calcio',\n",
       " '2017–18 Serie A',\n",
       " 'Serie A Footballer of the Year',\n",
       " '2017–18 Serie A',\n",
       " 'Gazzetta Sports Awards',\n",
       " 'Category:1993 births',\n",
       " 'Category:Living people',\n",
       " 'Category:Argentine people of Italian descent',\n",
       " 'Category:Argentine people of Venetian descent',\n",
       " 'Category:People of Piedmontese descent',\n",
       " 'Category:Sportspeople from Rosario, Santa Fe',\n",
       " 'Category:Argentine footballers',\n",
       " 'Category:Association football forwards',\n",
       " 'Category:UD Vecindario players',\n",
       " 'Category:U.C. Sampdoria players',\n",
       " 'Category:Inter Milan players',\n",
       " 'Category:Paris Saint-Germain F.C. players',\n",
       " 'Category:Serie A players',\n",
       " 'Category:Serie B players',\n",
       " 'Category:Ligue 1 players',\n",
       " 'Category:Argentina international footballers',\n",
       " 'Category:Argentine expatriate footballers',\n",
       " 'Category:Argentine expatriate sportspeople in Spain',\n",
       " 'Category:Argentine expatriate sportspeople in Italy',\n",
       " 'Category:Argentine expatriate sportspeople in France',\n",
       " 'Category:Expatriate footballers in Spain',\n",
       " 'Category:Expatriate footballers in Italy',\n",
       " 'Category:Expatriate footballers in France']"
      ]
     },
     "execution_count": 3,
     "metadata": {},
     "output_type": "execute_result"
    }
   ],
   "source": [
    "list_links = list(map(lambda x : x.title, in_links))\n",
    "list_links"
   ]
  },
  {
   "cell_type": "code",
   "execution_count": null,
   "metadata": {},
   "outputs": [],
   "source": []
  },
  {
   "cell_type": "code",
   "execution_count": null,
   "metadata": {},
   "outputs": [],
   "source": [
    "enwiki-20201001-pages-articles-multistream1.xml-p1p41242"
   ]
  },
  {
   "cell_type": "code",
   "execution_count": 15,
   "metadata": {},
   "outputs": [],
   "source": [
    "text = open(\"enwiki-latest-abstract20.xml\", encoding = \"UTF-8\").read()"
   ]
  },
  {
   "cell_type": "code",
   "execution_count": 7,
   "metadata": {},
   "outputs": [],
   "source": [
    "parsed = wtp.parse(text)\n",
    "in_links = parsed.wikilinks"
   ]
  },
  {
   "cell_type": "code",
   "execution_count": null,
   "metadata": {},
   "outputs": [],
   "source": [
    "parsed.sections"
   ]
  },
  {
   "cell_type": "code",
   "execution_count": 36,
   "metadata": {},
   "outputs": [],
   "source": [
    "import mwxml"
   ]
  },
  {
   "cell_type": "code",
   "execution_count": null,
   "metadata": {},
   "outputs": [],
   "source": [
    "dump = mwxml.Dump.from_file(text)"
   ]
  },
  {
   "cell_type": "code",
   "execution_count": null,
   "metadata": {},
   "outputs": [],
   "source": [
    "\n",
    "print(dump.site_info.name, dump.site_info.dbname)\n",
    "Wikipedia enwiki\n",
    "for page in dump:\n",
    "for revision in page:\n",
    "    print(revision.id)"
   ]
  },
  {
   "cell_type": "code",
   "execution_count": null,
   "metadata": {},
   "outputs": [],
   "source": []
  },
  {
   "cell_type": "code",
   "execution_count": null,
   "metadata": {},
   "outputs": [],
   "source": []
  },
  {
   "cell_type": "code",
   "execution_count": 30,
   "metadata": {},
   "outputs": [],
   "source": [
    "from lxml import etree\n",
    "t = etree.XML(text)"
   ]
  },
  {
   "cell_type": "code",
   "execution_count": null,
   "metadata": {},
   "outputs": [],
   "source": [
    "(t.text + ''.join(map(etree.tostring, t))).strip()"
   ]
  },
  {
   "cell_type": "code",
   "execution_count": 99,
   "metadata": {},
   "outputs": [
    {
     "name": "stdout",
     "output_type": "stream",
     "text": [
      "oui\n"
     ]
    }
   ],
   "source": [
    "pa = [\"disambiguation/ oheeoc\"]\n",
    "if \"disambiguation\" in pa[0]:\n",
    "    print(\"oui\")"
   ]
  },
  {
   "cell_type": "code",
   "execution_count": null,
   "metadata": {},
   "outputs": [],
   "source": []
  },
  {
   "cell_type": "markdown",
   "metadata": {},
   "source": [
    "# A TESTER"
   ]
  },
  {
   "cell_type": "code",
   "execution_count": 2,
   "metadata": {},
   "outputs": [],
   "source": [
    "import bz2\n",
    "import subprocess"
   ]
  },
  {
   "cell_type": "code",
   "execution_count": 3,
   "metadata": {},
   "outputs": [],
   "source": [
    "data_path = 'enwiki-20201001-pages-articles1.xml-p1p41242.bz2'"
   ]
  },
  {
   "cell_type": "code",
   "execution_count": 4,
   "metadata": {},
   "outputs": [],
   "source": [
    "lines = []\n",
    "for i, line in enumerate(bz2.BZ2File(data_path, 'r')):\n",
    "    lines.append(line)\n",
    "    if i > 5e5:\n",
    "        break"
   ]
  },
  {
   "cell_type": "code",
   "execution_count": 5,
   "metadata": {},
   "outputs": [],
   "source": [
    "import xml.sax\n",
    "\n",
    "class WikiXmlHandler(xml.sax.handler.ContentHandler):\n",
    "    \"\"\"Content handler for Wiki XML data using SAX\"\"\"\n",
    "    def __init__(self):\n",
    "        xml.sax.handler.ContentHandler.__init__(self)\n",
    "        self._buffer = None\n",
    "        self._values = {}\n",
    "        self._current_tag = None\n",
    "        self._pages = []\n",
    "\n",
    "    def characters(self, content):\n",
    "        \"\"\"Characters between opening and closing tags\"\"\"\n",
    "        if self._current_tag:\n",
    "            self._buffer.append(content)\n",
    "\n",
    "    def startElement(self, name, attrs):\n",
    "        \"\"\"Opening tag of element\"\"\"\n",
    "        if name in ('title', 'text'):\n",
    "            self._current_tag = name\n",
    "            self._buffer = []\n",
    "\n",
    "    def endElement(self, name):\n",
    "        \"\"\"Closing tag of element\"\"\"\n",
    "        if name == self._current_tag:\n",
    "            self._values[name] = ' '.join(self._buffer)\n",
    "\n",
    "        if name == 'page':\n",
    "            if \"disambiguation\" not in self._values['text']:\n",
    "                self._pages.append((self._values['title'], self._values['text']))"
   ]
  },
  {
   "cell_type": "code",
   "execution_count": 6,
   "metadata": {},
   "outputs": [
    {
     "data": {
      "text/plain": [
       "[]"
      ]
     },
     "execution_count": 6,
     "metadata": {},
     "output_type": "execute_result"
    }
   ],
   "source": [
    "# Content handler for Wiki XML\n",
    "handler = WikiXmlHandler()\n",
    "\n",
    "# Parsing object\n",
    "parser = xml.sax.make_parser()\n",
    "parser.setContentHandler(handler)\n",
    "\n",
    "handler._pages"
   ]
  },
  {
   "cell_type": "code",
   "execution_count": 7,
   "metadata": {},
   "outputs": [
    {
     "name": "stdout",
     "output_type": "stream",
     "text": [
      "['AccessibleComputing', 'AfghanistanHistory', 'AfghanistanGeography', 'AfghanistanPeople', 'AfghanistanCommunications', 'AfghanistanTransportations', 'AfghanistanMilitary', 'AfghanistanTransnationalIssues', 'AssistiveTechnology', 'AmoeboidTaxa', 'Autism', 'AlbaniaHistory', 'AlbaniaPeople', 'AsWeMayThink', 'AlbaniaGovernment', 'AlbaniaEconomy', 'Albedo', 'AfroAsiaticLanguages', 'ArtificalLanguages', 'AbacuS', 'AbalonE', 'AbbadideS', 'AbbesS', 'AbbevilleFrance', 'AbbeY', 'AbboT', 'Abbreviations', 'AtlasShrugged', 'ArtificialLanguages', 'AtlasShruggedCharacters', 'AtlasShruggedCompanies', 'AyersMusicPublishingCompany', 'AfricanAmericanPeople', 'AdolfHitler', 'AbeceDarians', 'AbeL', 'AbensbergGermany', 'AberdeenSouthDakota', 'ArthurKoestler', 'AynRand', 'AlexanderTheGreat', 'AnchorageAlaska', 'ArgumentForms', 'ArgumentsForTheExistenceOfGod', 'AnarchY', 'AsciiArt', 'AcademyAwards', 'AcademyAwards/BestPicture', 'AustriaLanguage', 'AcademicElitism', 'AxiomOfChoice', 'AmericanFootball', 'AmericA', 'AnnaKournikova', 'AndorrA', 'AustroAsiaticLanguages', 'ActresseS', 'AnarchoCapitalism', 'AnarchoCapitalists', 'ActressesS', 'AnAmericanInParis', 'AutoMorphism', 'ActionFilm', 'AfricA', 'AppliedStatistics', 'Abraham Lincoln', 'Aristotle', 'An American in Paris', 'Academy Award for Best Production Design', 'Action Film', 'Actrius', 'Animalia (book)', 'International Atomic Time', 'Altruism', 'AutoRacing', 'Ayn Rand', 'Alain Connes', 'Allan Dwan', 'Algeria/People', 'Algeria/Transnational Issues', 'Algeria', 'List of Atlas Shrugged characters', 'Topics of note in Atlas Shrugged', 'Anthropology', 'Astronomer', 'Ameboid stage', 'ASCII', 'Ashmore And Cartier Islands', 'Andre Agassi', 'Artificial languages', 'Austroasiatic languages', 'Afro-asiatic languages', 'Afroasiatic languages', 'Andorra', 'Andorra/Transnational issues', 'Arithmetic mean', 'American Football Conference', 'Albert Gore', 'AnEnquiryConcerningHumanUnderstanding', 'Animal Farm', 'Albert Arnold Gore/Criticisms', 'Alaska', 'Auteur Theory Film', 'Agriculture', 'Aldous Huxley', 'Abstract Algebra', 'Analysis of variance', 'ANOVA', 'Arithmetic and logic unit', 'Actress', 'Arraignment', 'Assistive technology', 'Accessible computing', 'Acid', 'Asphalt', 'Apollo 11', 'Apollo 8', 'A Modest Proposal', 'Alkali metal', 'Argument form', 'Allotrope', 'Atomic number', 'Anatomy', 'Affirming the consequent', 'Aardvark', 'Aardwolf', 'Adobe', 'Amaltheia', 'Analysis of Variance', 'Asia', 'Aruba', 'Articles of Confederation', 'Archaeology/Broch', 'Aa River', 'Arthur Schopenhauer', 'Angola', 'Demographics of Angola', 'Politics of Angola', 'Economy of Angola', 'Transport in Angola', 'Angolan Armed Forces', 'Foreign relations of Angola', 'Albert Sidney Johnston', 'Wikipedia:Adding Wikipedia articles to Nupedia', 'Astronomy/History', 'List of anthropologists', 'Astronomy and Astrophysics/History', 'Al Gore/Criticisms', 'Afghanistan', 'Albania', 'Algorithms (journal)', 'Antigua And Barbuda', 'Azerbaijan', 'Astronomers and Astrophysicists', 'Aikido', 'Albania/History', 'Albania/Transnational Issues', 'Albania/People', 'Albania/Foreign relations', 'Agnostida', 'Abstract (law)', 'A.E. van Vogt', 'American Revolutionary War', 'Ampere', 'Algorithm', 'Annual plant', 'Anthophyta', 'Mouthwash', 'Alfred Korzybski', 'Asteroids (video game)', 'Asparagales', 'Alismatales', 'Apiales', 'Asterales', 'Asteroid', 'Allocution', 'Affidavit', 'Aries (constellation)', 'Aquarius (constellation)', 'Anime', 'AlbaniaCommunications', 'Alfred Hitchcock', 'Afghanistan/History', 'Afghanistan/Geography', 'Afghanistan/Government', 'Afghanistan/People', 'Afghanistan/Economy', 'Afghanistan/Communications', 'Afghanistan/Military', 'Afghanistan/Transnational Issues', 'Afghanistan (1911 Encyclopedia)', 'Altaic languages', 'Austrian German', 'Austria/Transnational issues', 'Anglican Church', 'Axiom of choice', 'Aegean Sea', 'A Clockwork Orange (novel)', 'Amsterdam', 'Museum of Work', 'Audi', 'Aircraft', 'Alexander Graham Bell', 'Abiotic factors', 'Aberdeenshire', 'AU', 'Aztlan Underground', 'Aland', 'Alp Arslan', 'American Film Institute', 'Akira Kurosawa', 'Ancient civilization', 'Ancient Egypt', 'Analog Brothers', 'Motor neuron disease', 'Abjad', 'Abugida', 'ABBA', 'Allegiance', 'Absolute majority', 'MessagePad', 'A. E. van Vogt', 'Anna Kournikova', 'Accountancy', 'Alfons Maria Jakob', 'Agnosticism', 'Argon', 'Actinium', 'Americium', 'Astatine', 'Arable land', 'Aluminium', 'Advanced Chemistry', 'Awk', 'AgoraNomic', 'Arne Kaijser', 'Author', 'Andrey Markov', 'Anti-semitism', 'Anti-semitic', 'Angst', 'Anxiety', 'A.A. Milne', 'A. A. Milne', 'Asociación Alumni', 'Alumna', 'Alvin Toffler', 'The Amazing Spider-Man', 'Automated Alice/XII', 'Automated Alice/XI', 'Automated Alice/X', 'Automated Alice/IX', 'Automated Alice/VIII', 'Automated Alice/VI', 'Automated Alice/VII', 'Automated Alice/V', 'Automated Alice/IV', 'Automated Alice/II', 'Automated Alice/I', 'Automated Alice/III', 'Azincourt', 'Albert Speer', 'Asteraceae', 'Apiaceae', 'Axon', 'Agma', 'Aramaic alphabet', 'Arguments for the existence of God', 'American shot', 'Acute disseminated encephalomyelitis', 'Ataxia', 'AmbientCalculusOnline', 'Abdul Alhazred', 'A priori and a posterior knowledge', 'Ada Lovelace', 'AmbientCalculiOnline', 'August Derleth', 'A priori and a posteriori knowledge', 'Albert Camus', 'Agatha Christie', 'Applied ethics', 'Absolute value', 'Analog signal', 'Arecales', 'Hercule Poirot', 'Miss Marple', 'Aaron', 'April 6', 'April 12', 'April 15', 'April 30', 'August 22', 'August 27', 'Alcohol', 'Achill Island', 'Allen Ginsberg', 'Algebraically closed field', 'August 6', 'Anatoly Karpov', 'Aspect ratio', 'Auto racing', 'Anarcho-capitalism', 'Anarcho-capitalists', 'August 9', 'Aristophanes', 'Albert Schweitzer', 'Austrian School', 'Abscess', 'Aal', 'Aalborg Municipality', 'Aarhus', 'Northern cavefish', 'Amateur', 'Alexis Carrel', \"All Souls' Day\", 'Anatole France', 'André Gide', 'Applied statistics', 'Analysis of variance/Random effects models', 'Analysis of variance/Degrees of freedom', 'Algorithms for calculating variance', 'Almond', 'Demographics of Antigua and Barbuda', 'Politics of Antigua and Barbuda', 'Telecommunications in Antigua and Barbuda', 'Royal Antigua and Barbuda Defence Force', 'Antigua and Barbuda/Transnational issues', 'Antisemitism', 'Economy of Azerbaijan', 'Geography of Azerbaijan', 'Azerbaijan/People', 'Azerbaijan/Communications', 'Foreign relations of Azerbaijan', 'Azerbaijani Armed Forces', 'Azerbaijan/Foreign relations', 'Geography of Armenia', 'Demographics of Armenia', 'Politics of Armenia', 'Economy of Armenia', 'Transport in Armenia', 'Armed Forces of Armenia', 'Foreign relations of Armenia', 'Argentina/Transnational issues', 'Argentina/Foreign relations', 'Geography of American Samoa', 'Demographics of American Samoa', 'Politics of American Samoa', 'Economy of American Samoa', 'Transportation in American Samoa', 'American Samoa/Military', 'Australia/Transnational issues', 'August 13', 'The Ashes', 'Analysis', 'Abner Doubleday', \"America's National Game\", 'Amplitude modulation', 'Augustin-Jean Fresnel', 'Abbot', 'Ardipithecus', 'Assembly line', 'AK47', 'Amhrann na bhFiann', 'August 2', 'Algebraic number', 'Automorphism', 'Accordion', 'Afro Celt Sound System', 'Ancient philosophy', 'Anaximander', 'Architect', 'Abbreviation', 'April 1', 'Antisymmetric relation', 'Aleister Crowley', 'Afterlife', 'Astrometry', 'Amber Diceless Roleplaying Game', 'AphexTwin', 'Alloy', 'Articles of Faith', 'Alternative history', 'Artistic revolution', 'Agrarianism', 'Allotropes', 'Angle', 'Acoustics', 'Angle tribe', 'Atomic physics', 'American Sign Language', 'Applet', 'Alternate history', 'Atomic orbitals', 'Atomic orbital', 'Amino acid', 'Alan Turing', 'Area', 'Astronomical unit', 'Artist', 'Actaeon', 'Anguilla/Transnational issues', 'Anguilla/Military', 'Telecommunications in Anguilla', 'Ashmore and Cartier Islands', 'Ashmore and Cartier Islands/Geography', 'Ashmore and Cartier Islands/People', 'Ashmore and Cartier Islands/Government', 'Ashmore and Cartier Islands/Transportation', 'Ashmore and Cartier Islands/Economy', 'Ashmore and Cartier Islands/Military', 'Acoustic theory', 'Atomic bomb', 'Ada (programming language)', 'Alpha ray', 'Alfonso Aráu', 'Alfonso Cuarón', 'August 1', 'Astronomical Units', 'Antoninus Pius', 'August 3', 'Advanced Encryption Standard', 'April 26', 'Argot', 'Anisotropy', 'Alpha decay', 'AI', 'Extreme poverty', 'Analytical Engine', 'Geography of Antarctica', 'Economy of Antarctica', 'Government of Antarctica', 'Transport in Antarctica', 'Military of Antarctica', 'Geography of Alabama', 'List of governors of Alabama', 'Antartic Treaty', 'Antarctic Treaty System', 'Algernon Swinburne', 'Alfred Lawson', 'ALCS', 'Apocrypha/Tanakh', 'Ames, Iowa', 'Abbadides', 'Abalone', 'Abbess', 'Human abdomen', 'Abdominal surgery', 'Abensberg', 'Arminianism', 'The Alan Parsons Project', 'Almost all', \"Ada Byron's notes on the analytical engine\", 'Augustine', 'Aromatic hydrocarbon', 'Abbey', 'Annales school', 'Antimatter', 'Antonio Gaudi/Sagrada Familia', 'Casa Batlló', 'Park Güell', 'Casa Milà', 'Antiparticle', 'A.D.', 'Arabian Prince', 'August 7', 'August 8', 'April 16', 'The Apache Software Foundation', 'Americans with Disabilities Act of 1990', 'Americans with Disabilities Act of 1990/Findings and Purposes', 'Americans with Disabilities Act of 1990/Definitions', 'Americans with Disabilities Act of 1990/Title III', 'A.D', 'Apple I', 'Apache webserver', 'Apatosaurus', 'Allosaurus', 'AK-47', 'Atanasoff–Berry computer', 'Andes', 'Anderida', 'Ancylopoda', 'Anchor', 'Anbar (town)', 'Anazarbus', 'Anagram', 'André-Marie Ampère', 'Ammonia', 'Amethyst', 'Albertosaurus', 'Assembly language', 'Ambrosia', 'Ambracia', 'Amber', 'Alphorn', 'Alligatoridae', 'Alder', 'Amos Bronson Alcott', 'Arachnophobia', 'Alabaster', 'Dasyproctidae', 'Algol', 'Amazing Grace', 'AOL', 'ADHD', 'Amino group', 'Antony van Leeuwenhook', 'Alcuin', 'Angilbert', 'Antony van Leeuwenhoek', 'Adrian I', 'April 29', 'August 14', 'Adiabatic process', 'Amide', 'Animism', 'Antonio Vivaldi', 'Adrian II', 'Adrian IV', 'Adrian VI', 'Abgar', 'Abbotsford, Scottish Borders', 'Abraxas', 'Absalom', 'August 15', 'Acapulco', 'August 16', 'Alan Kay', 'APL (programming language)', 'AWK', 'Alzheimers disease', 'Ascorbic Acid', 'Asgard', 'Apollo program', 'Australian Prime Ministers', 'Ask and Embla', 'Alabama River', 'Alain de Lille', 'Alemanni', 'NYSE American', 'August 17', 'August 12', 'Alfred Russel Wallace', 'Australian Labor Party', 'August 18', 'August 19', 'August 21', \"Dodo (Alice's Adventures in Wonderland)\", \"Eaglet (Alice's Adventures in Wonderland)\", 'Albert Alcibiades, Margrave of Brandenburg-Kulmbach', 'Albert the Bear', 'Albert I of Hapsburg', 'Albert of Brandenburg', 'Albert III, Elector of Saxony', 'Albert the Degenerate', 'Albert Of Aix', 'August 25', 'Agate', 'Aspirin', 'Abner', 'Ahmed II', 'Ahmed III', 'Ainu people', 'Aix-la-Chapelle', 'Acorn (fruit of the oak tree)', 'Acropolis', 'Acupuncture', 'Adirondacks', 'Aeneas', 'April 13', 'Amaranth', 'Agapanthus africanus', 'Agamemnon', 'Aga Khan I', 'Aga Khan III', 'Alexander Agassiz', 'Agathon', 'Agesilaus II', 'Antonio Agliardi', 'Agnes of Merania', 'Agrippina the Elder', 'Agrippina the Younger', 'American Chinese cuisine', 'Ahmad Shah Durrani', 'Aidan of Dalriada', 'Arthur Aikin', 'Ailanthus', 'Aimoin', 'Akkadian Empire', 'Ajax the Lesser', 'Alaric I', 'Alaric II', 'Albategnius', 'Albertus Magnus', 'Alboin', 'Alcaeus of Mytilene', 'Alcamenes', 'Alcmene', 'Alcidamas', 'Aldine Press', 'Ealdred (archbishop of York)', 'Alexander I of Epirus', 'Alexander Balas', 'Alexander of Pherae', 'Alexander II of Epirus', 'Alexander Jagiellon', 'Alexander III of Russia', 'Alexander I of Scotland', 'Alexander II of Scotland', 'Alexander III of Scotland', 'Alexander of Aphrodisias', 'Severus Alexander', 'Alexander Aetolus', 'Alexander Jannaeus', 'Alexander V', 'Alexander VI', 'Alexander VII', 'Alexander VIII', 'Alexandrists', 'Alexios I Komnenos', 'Alexis (poet)', 'Alexios II Komnenos', 'Alexios III Angelos', 'Alexios V Doukas', 'Alexei Petrovich, Tsarevich of Russia', 'Andrew Jackson', 'Andrew Johnson', 'Aleksandr Solzhenitsyn', 'Aleksandr Isaevich Solzhenitsyn', 'August 24', 'Antipope', 'Aquaculture', 'Kolmogorov complexity', 'Antoine de Saint-Exupery', 'Hymn to Proserpine', 'The Triumph of Time', 'April 28', 'Alfred Ernest Albert', 'Alessandro Algardi', 'Alger of Liège', 'Algiers', 'Alessandro Allori', 'Aloe', 'Alured of Berkeley', 'Alyattes of Lydia', 'Alypius of Antioch', 'Amalasuintha', 'Amalric of Bena', 'Afonso I of Portugal', 'Afonso II of Portugal', 'Afonso III of Portugal', 'Afonso IV of Portugal', 'Afonso V of Portugal', 'Afonso VI of Portugal', 'Alfonso II of Asturias', 'Amarasimha', 'Alphonso VIII of Spain', 'Alfonso IX of Spain', 'Alfonso XII', 'Alfonso XIII', 'Alphonsus a Sancta Maria', 'Alfonso the Battler', 'Amasis I', 'Alfonso III of Aragon', 'Alfonso IV of Aragon', 'Amasis II', 'Alfonso V of Aragon', 'Amathus', 'Amati', 'Alfonso IV', 'Alfonso V', 'Ambergris', 'Ambiorix', 'Alfonso VI', 'August Wilhelm Ambros', 'Amazon River', 'Alfred of Beverley', 'Alphonso VII', 'Alphonso VIII', 'Alphonso IX', 'Alphonso X', 'Alphonso XI', 'Alphonso XII', 'Alphonso XIII', 'April 22', 'August 31', 'Autpert Ambrose', 'Abu Bakr', 'Ambrose Traversari', 'Ambrosians', 'Ambrosiaster', 'Ammon', 'Ammonius Hermiae', 'Ammonius Saccas', 'Book of Amos', 'Amphipolis', 'Amyntas I of Macedon', 'Amyntas III of Macedon', 'Anacharsis', 'Anacreon (poet)', 'Anah', 'Anaxagoras', 'Anaxarchus', 'Ancyra (planthopper)', 'Anastasius I', 'Anastasius III', 'Anastasius IV', 'Anaximenes of Lampsacus', 'Anaximenes of Miletus', 'Ancus Marcius', 'Andaman Islands', 'Alexander Anderson (mathematician)', 'Andocides', 'Andrea Andreani', 'Andrew II of Hungary', 'An Enquiry Concerning Human Understanding', 'André de Longjumeau', 'Andriscus', 'Andronikos III Palaiologos', 'Andronicus of Cyrrhus', 'Andronicus of Rhodes', 'Asteroid Belt', 'Ammianus Marcellinus', 'ALICE', 'An Enquiry Concerning Human Understanding/Text', 'Apollo Program', 'Arthritus', 'Apollo 7', 'Apollo 9', 'Applied discrete math', 'Arthritis', 'April 2', 'Acetylene', 'August 28', 'Arabic numerals', 'April 9', 'Apuleius', 'Alexander Selkirk', 'Anti-ballistic missile', 'August 29', 'August 30', 'Adenosine triphosphate', 'Ægir', 'Antibiotic', 'Arnold Schwarzenegger', 'Aquinas', 'Actium', 'Amide hydrolysis', 'Amway', 'Adam Smith', 'Antoine Laurent Lavoisier', 'Antoine Lavoisier', 'A roll', 'Hermann Kolbe', 'April 18', 'April 23', 'Amitabh Bachchan', 'Air Pollution', 'Antarctic-Environmental Protocol', 'Allomorph', 'American bias', 'Allophone', 'Affix', 'Allegory', 'Amazon river', 'Allotropy', 'Agathocles of Syracuse', 'Economy of Alberta', 'Augustin-Louis Cauchy', 'Archimedes', 'Alternative medicine', 'Archimedean solid', 'Antiprism', 'Ancient Greeks', 'Natural history of Africa', 'Geography of Africa', 'Africa/History', 'Approval voting', 'Aromatic compound', 'Arizona State University', 'April 14', 'Alarums and Excursions', 'Alfred Jarry', 'Amalric of Jerusalem', 'Aimery of Cyprus', 'Adhemar of Le Puy', 'Adhemar de Chabannes', 'Albigenses', 'Alphonse, Count of Poitiers', 'Alfonso Jordan', 'Ambroise', 'Art Deco', 'ASCII art', 'Autoerotic asphyxiation', 'Ban on assault rifles', 'American English', 'A. G. Spalding', 'Africa Alphabet', 'Australian English', 'American Airlines Flight 77', 'American Airlines flight 77', 'American Airlines flight 11', 'Astronomical aberration', 'Abzyme', 'Adaptive radiation', 'Agarose gel electrophoresis', 'Allele', 'Ampicillin', 'Antimicrobial resistance', 'Antigen', 'Autosome', 'Al-Qaeda', 'Alessandro Volta', 'Argo Navis', 'Andromeda (mythology)', 'Antlia', 'Ara (constellation)', 'Arkansas', 'Apus', 'Abadan, Iran', 'Astronomical Unit', 'Approximant consonant', 'Astronomer Royal', 'Airline', 'Australian Democrats', 'Australian Capital Territory', 'Unit of alcohol', 'Aotus', 'Ally McBeal', 'Andreas Capellanus', 'American Civil Liberties Union', 'AT bus architecture', 'Adobe Inc.', 'Alexander Technique', 'Automatic telephone exchange', 'Andrea Alciato', 'Apparent magnitude', 'Absolute magnitude', 'Apollo 1', 'Apollo 10', 'Apollo 12', 'Apollo 14', 'Apollo 15', 'Apollo 16', 'Apollo 17', 'Air transport', 'American Revolution', 'April 17', 'Alan Ayckbourn', 'Adamnan', 'Amiga', 'A.L.I.C.E', 'Arab countries', 'Absorption', 'Actinophryid', 'Abel Tasman', 'August 5', 'Alan Ayckbourn/Plays', 'Algebraic geometry', 'Austin, Texas', 'Al Qaida', 'Argument from common consent', 'Argument from morality', 'ASL (disambiguation)', 'Addictive', 'Auschwitz concentration camp', 'Al Qaeda', 'Alvar Aalto', 'Comparison of American and British English', 'Atomic semantics', 'Antarctic Circumpolar Current', 'A. J. Ayer', 'André Weil', 'Atle Selberg', 'Aeschylus', 'Amber Road', 'Crandall University', 'Andrew Wiles', 'Anne Brontë', 'Augustine of Hippo', 'Acting', 'August Horch', 'Avionics', 'Ares', 'Alexander Grothendieck', 'Hostility towards America', 'Alcoholics Anonymous', 'Alpha compositing', 'Archaeologist', 'Anarchist', 'Array data structure', 'Advance Australia Fair', 'Atheists', 'Automatic number announcement circuit', 'Aristide Maillol', 'Antonio Canova', 'Auguste Rodin', 'Afrocelt Sound System', 'Andrew Jackson/First Inaugural Address', 'Andrew Jackson/Second Inaugural Address', 'Acropolis of Athens', 'Adam Weishaupt', 'Acorn Electron', 'Autumn equinox', 'A Fire Upon the Deep', 'Aeronautics', 'Auguste and Louis Lumière', 'Abijah', 'Aphasia', 'Aorta', 'Albert of Brandenburg Prussia', 'Abimelech', 'Anomalous cognition', 'Anomalous operation', 'Andrew Tridgell', 'Applesoft BASIC', 'Atlanta Falcons', 'Heathenry in the United States', 'Ælfheah of Canterbury', 'Axiom of regularity', 'IBM AIX', 'AppleTalk', 'Apple II series', 'Apple III', 'AVL tree', 'Aliphatic compound', 'Astrology', 'Algebraic extension', 'Ani DiFranco', 'Anaheim Angels', 'Aesthetics', 'Ara Pacis Augustae', 'Ark of the Covenant', 'Angles', 'Aster CT-80', 'Lists of animated television series', 'Atari ST', 'List of artificial intelligence projects', 'Albigensians', 'Alexander Solzhenitsyn', 'Armour', 'Armoured fighting vehicle', 'Armor', 'Anton Drexler', 'All Quiet on the Western Front', 'Academic elitism', 'African Americans', 'Artistic License', 'Afrikaans', 'Aeolus', 'Autrefois convict', 'Autrefois acquit', 'Alford plea', 'Anti-realism', 'American cuisine', 'Ahmad Shah Massoud', 'Atlantis', 'Autobiography', 'Arcadius', 'Arabs', 'Armadillo', 'Antisemitism in the Arab world', 'Accidental property', 'Alternate History', 'August 11', 'Arcology', 'April 5', 'April 20', 'April 19', 'Amstrad CPC', 'Abdulaziz al-Omari', 'Aage Bohr', 'Analytic geometry', 'Religious denominations in Poland', 'Arabic alphabet', 'Ampage', 'Angels in art', 'Folklore of the United States', 'American Folklore', 'Affirming the antecedent', \"Sid Meier's Alpha Centauri\", 'Armenian language', 'Additive synthesis', 'Acts', 'Apicomplexa', 'Argentine cuisine', 'Abattoir', 'April 8', 'Ad hominem', 'A fortiori', 'Argumentum ad hominum', 'Analysis of algorithms', 'Ælle of Sussex', 'Atari', 'Acadia University', 'Steel-string acoustic guitar', 'Antipope John XXIII', 'Antonio Salieri', 'Cobble Hill Tunnel', 'Annapolis Valley', 'Analgesic']\n"
     ]
    }
   ],
   "source": [
    "# Object for handling xml\n",
    "handler = WikiXmlHandler()\n",
    "\n",
    "# Parsing object\n",
    "parser = xml.sax.make_parser()\n",
    "parser.setContentHandler(handler)\n",
    "\n",
    "for line in bz2.BZ2File(data_path, 'r'):\n",
    "    parser.feed(line)\n",
    "\n",
    "    if len(handler._pages) > 1000:\n",
    "        break\n",
    "        \n",
    "print([x[0] for x in handler._pages])"
   ]
  },
  {
   "cell_type": "code",
   "execution_count": 8,
   "metadata": {},
   "outputs": [
    {
     "name": "stdout",
     "output_type": "stream",
     "text": [
      "Ahmed II\n"
     ]
    }
   ],
   "source": [
    "import mwparserfromhell \n",
    "\n",
    "chosen_page = handler._pages[560]\n",
    "print(chosen_page[0])\n",
    "\n",
    "# Create the wiki article\n",
    "wiki = mwparserfromhell.parse(chosen_page[1])"
   ]
  },
  {
   "cell_type": "code",
   "execution_count": null,
   "metadata": {},
   "outputs": [],
   "source": []
  },
  {
   "cell_type": "code",
   "execution_count": 9,
   "metadata": {},
   "outputs": [
    {
     "name": "stdout",
     "output_type": "stream",
     "text": [
      "There are 66 wikilinks.\n"
     ]
    },
    {
     "data": {
      "text/plain": [
       "['Caesar (title)#Ottoman Empire',\n",
       " 'Custodian of the Two Holy Mosques',\n",
       " 'Ottoman Caliphate',\n",
       " 'Suleiman II of the Ottoman Empire',\n",
       " 'Mustafa II']"
      ]
     },
     "execution_count": 9,
     "metadata": {},
     "output_type": "execute_result"
    }
   ],
   "source": [
    "wikilinks = [x.title for x in wiki.filter_wikilinks()]\n",
    "print(f'There are {len(wikilinks)} wikilinks.')\n",
    "wikilinks[:5]"
   ]
  },
  {
   "cell_type": "code",
   "execution_count": 10,
   "metadata": {},
   "outputs": [
    {
     "data": {
      "text/plain": [
       "'Ahmed II (  Aḥmed-i  < u > s < /u > ānī)  < span dir= \" ltr \" > (25 February 1643 or 1 August 1642 < ref > Mantran, Robert, “Aḥmad II”, in Encyclopaedia of Islam, Second Edition, vol.I (1986) p.268 : first date according to Naima, second date to Raşid < /ref >  – 6 February 1695) < /span >  was the Sultan of the Ottoman Empire from 1691 to 1695. \\n \\n == Early life == \\n Ahmed II was born on 25 February 1643 or 1 August 1642, the son of Sultan Ibrahim and Muazzez Sultan. On 21 October 1649, Ahmed along with his brothers Mehmed and Suleiman were circumcised.   \\n \\n During the reigns of his older brothers, Ahmed was imprisoned in Kafes, and he stayed there almost 43 years. \\n thumb|262px|The mausoleum of Ahmed II is located inside the türbe of Suleiman the Magnificent.  < small > (In the above picture, his tomb is seen side by side with Suleiman II and Suleiman the Magnificent). < /small >  \\n \\n ==Reign== \\n  \\n During his reign, Sultan Ahmed II devoted most of his attention to the wars against the Habsburgs and related foreign policy, governmental and economic issues. Of these, the most important were the tax reforms and the introduction of the lifelong tax farm system (malikane) (see tax farming). Following the recovery of Belgrade under his predecessor, Suleiman II, the military frontier reached a rough stalemate on the Danube, with the Habsburgs no longer able to advance south of it, and the Ottomans attempting, ultimately unsuccessfully, to regain the initiative north of it. \\n \\n Among the most important features of Ahmed\\'s reign was his reliance on Köprülüzade Fazıl Mustafa Pasha. Following his accession to the throne, Sultan Ahmed II confirmed Köprülüzade Fazıl Mustafa Pasha in his office as grand vizier. In office from 1689, Fazıl Mustafa Pasha was from the Köprülü family of grand viziers, and like most of his Köprülü predecessors in the same office, was an able administrator and military commander. Like his father Köprülü Mehmed Pasha (grand vizier 1656–61) before him, he ordered the removal and execution of dozens of corrupt state officials of the previous regime and replaced them with men loyal to himself. He overhauled the tax system by adjusting it to the capabilities of the taxpayers affected by the latest wars. He also reformed troop mobilization and increased the pool of conscripts available for the army by drafting tribesmen in the Balkans and Anatolia. In October 1690 he recaptured Belgrade, a key fortress that commanded the confluence of the rivers Danube and Sava; in Ottoman hands since 1521, the fortress had been conquered by the Habsburgs in 1688. \\n \\n Fazıl Mustafa Pasha\\'s victory at Belgrade was a major military achievement that gave the Ottomans hope that the military debacles of the 1680s—which had led to the loss of Hungary and Transylvania, an Ottoman vassal principality ruled by pro-Istanbul Hungarian princes— could be reversed. However, the Ottoman success proved ephemeral. On 19 August 1691, Fazıl Mustafa Pasha suffered a devastating defeat at the Battle of Slankamen at the hands of Ludwig Wilhelm von Baden, the Habsburg commander in chief in Hungary, nicknamed “Türkenlouis” (Louis the Turk) for his victories against the Ottomans. In the confrontation, recognized by contemporaries as “the bloodiest battle of the century,” the Ottomans suffered heavy losses: 20,000 men, including the grand vizier. With him, the sultan lost his most capable military commander and the last member of the Köprülü family, who for the previous half century had been instrumental in strengthening the Ottoman military. \\n \\n Under Fazıl Mustafa Pasha\\'s successors, the Ottomans suffered further defeats. In June 1692 the Habsburgs conquered Várad (Oradea, Romania), the seat of an Ottoman governor () since 1660. In 1694 they attempted to recapture Várad, but to no avail. On 12 January 1695, they surrendered the fortress of Gyula, the center of an Ottoman sanjak or subprovince since 1566. With the fall of Gyula, the only territory still in Ottoman hands in Hungary was to the east of the River Tisza and to the south of the river Maros, with its center at Temesvár. Three weeks later, on 6 February 1695, Ahmed II died in Edirne Palace. \\n \\n ==Great Turkish War== \\n < sd \\n \\n ==Family== \\n ;Consort \\n *Rabia Sultan (died Eski Palace, Bayezid, Istanbul, 14 January 1712, buried in Suleiman I Mausoleum, Süleymaniye Mosque); < ref > M. Çağatay Uluçay, Padişahların Kadınları ve Kızları, Ötüken Publications, p. 114 < /ref > \\n \\n ;Sons \\n *Şehzade Ibrahim (Edirne Palace, Edirne, 6 October 1692 < ref name= \" agha \" >  < /ref >  – Topkapı Palace, Istanbul, 4 May 1714, buried in Mustafa I Mausoleum, Hagia Sophia), with Rabia Sultan, twin with Selim, became Crown Prince on 22 August 1703; \\n *Şehzade Selim (Edirne Palace, Edirne, 6 October 1692 – Edirne Palace, Edirne, 15 May 1693, buried in Sultan Mustafa Mausoleum, Hagia Sophia), with Rabia Sultan, twin with Ibrahim. < ref name= \" agha \" / > \\n \\n ;Daughter \\n *Asiye Sultan < ref name= \" :0 \" > M. Çağatay Uluçay, Padişahların Kadınları ve Kızları, Ötüken Publications, p. 115 < /ref >  (Edirne Palace, Edirne, 23 October 1694 < ref name= \" agha \" / >  – Eski Palace, Bayezid, Istanbul, 9 December 1695, buried in Suleiman I Mausoleum, Süleymaniye Mosque), with Rabia Sultan; \\n \\n ==Further reading== \\n * \\n *Michael Hochendlinger, Austria\\'s Wars of Emergence: War, State and Society in the Habsburg Monarchy, 1683–1797 (London: Longman, 2003), 157–64. \\n \\n == References == \\n  \\n \\n == External links == \\n  \\n \\n  \\n \\n  \\n  \\n  \\n  \\n  \\n  \\n  \\n  \\n  \\n  \\n  \\n \\n  \\n  \\n \\n  \\n \\n Category:1643 births \\n Category:1695 deaths \\n Category:Sunni caliphs \\n Category:Ottoman people of the Great Turkish War \\n Category:17th-century Ottoman sultans \\n Category:Turks of the Ottoman Empire \\n Category:Custodian of the Two Holy Mosques \\n Category:Ottoman dynasty'"
      ]
     },
     "execution_count": 10,
     "metadata": {},
     "output_type": "execute_result"
    }
   ],
   "source": [
    "tr = wiki.strip_code().strip()\n",
    "tr"
   ]
  },
  {
   "cell_type": "code",
   "execution_count": 11,
   "metadata": {},
   "outputs": [],
   "source": [
    "def cleanhtml(raw_html):\n",
    "    cleanr = re.compile('<.*?>')\n",
    "    cleantext = re.sub(cleanr, '', raw_html)\n",
    "    return cleantext\n",
    "cleaned_text = cleanhtml(tr)"
   ]
  },
  {
   "cell_type": "code",
   "execution_count": 12,
   "metadata": {},
   "outputs": [
    {
     "name": "stdout",
     "output_type": "stream",
     "text": [
      "Ahmed II (  Aḥmed-i   s  ānī)   (25 February 1643 or 1 August 1642  Mantran, Robert, “Aḥmad II”, in Encyclopaedia of Islam, Second Edition, vol.I (1986) p.268 : first date according to Naima, second date to Raşid   – 6 February 1695)   was the Sultan of the Ottoman Empire from 1691 to 1695. \n",
      " \n",
      " == Early life == \n",
      " Ahmed II was born on 25 February 1643 or 1 August 1642, the son of Sultan Ibrahim and Muazzez Sultan. On 21 October 1649, Ahmed along with his brothers Mehmed and Suleiman were circumcised.   \n",
      " \n",
      " During the reigns of his older brothers, Ahmed was imprisoned in Kafes, and he stayed there almost 43 years. \n",
      " thumb|262px|The mausoleum of Ahmed II is located inside the türbe of Suleiman the Magnificent.   (In the above picture, his tomb is seen side by side with Suleiman II and Suleiman the Magnificent).   \n",
      " \n",
      " ==Reign== \n",
      "  \n",
      " During his reign, Sultan Ahmed II devoted most of his attention to the wars against the Habsburgs and related foreign policy, governmental and economic issues. Of these, the most important were the tax reforms and the introduction of the lifelong tax farm system (malikane) (see tax farming). Following the recovery of Belgrade under his predecessor, Suleiman II, the military frontier reached a rough stalemate on the Danube, with the Habsburgs no longer able to advance south of it, and the Ottomans attempting, ultimately unsuccessfully, to regain the initiative north of it. \n",
      " \n",
      " Among the most important features of Ahmed's reign was his reliance on Köprülüzade Fazıl Mustafa Pasha. Following his accession to the throne, Sultan Ahmed II confirmed Köprülüzade Fazıl Mustafa Pasha in his office as grand vizier. In office from 1689, Fazıl Mustafa Pasha was from the Köprülü family of grand viziers, and like most of his Köprülü predecessors in the same office, was an able administrator and military commander. Like his father Köprülü Mehmed Pasha (grand vizier 1656–61) before him, he ordered the removal and execution of dozens of corrupt state officials of the previous regime and replaced them with men loyal to himself. He overhauled the tax system by adjusting it to the capabilities of the taxpayers affected by the latest wars. He also reformed troop mobilization and increased the pool of conscripts available for the army by drafting tribesmen in the Balkans and Anatolia. In October 1690 he recaptured Belgrade, a key fortress that commanded the confluence of the rivers Danube and Sava; in Ottoman hands since 1521, the fortress had been conquered by the Habsburgs in 1688. \n",
      " \n",
      " Fazıl Mustafa Pasha's victory at Belgrade was a major military achievement that gave the Ottomans hope that the military debacles of the 1680s—which had led to the loss of Hungary and Transylvania, an Ottoman vassal principality ruled by pro-Istanbul Hungarian princes— could be reversed. However, the Ottoman success proved ephemeral. On 19 August 1691, Fazıl Mustafa Pasha suffered a devastating defeat at the Battle of Slankamen at the hands of Ludwig Wilhelm von Baden, the Habsburg commander in chief in Hungary, nicknamed “Türkenlouis” (Louis the Turk) for his victories against the Ottomans. In the confrontation, recognized by contemporaries as “the bloodiest battle of the century,” the Ottomans suffered heavy losses: 20,000 men, including the grand vizier. With him, the sultan lost his most capable military commander and the last member of the Köprülü family, who for the previous half century had been instrumental in strengthening the Ottoman military. \n",
      " \n",
      " Under Fazıl Mustafa Pasha's successors, the Ottomans suffered further defeats. In June 1692 the Habsburgs conquered Várad (Oradea, Romania), the seat of an Ottoman governor () since 1660. In 1694 they attempted to recapture Várad, but to no avail. On 12 January 1695, they surrendered the fortress of Gyula, the center of an Ottoman sanjak or subprovince since 1566. With the fall of Gyula, the only territory still in Ottoman hands in Hungary was to the east of the River Tisza and to the south of the river Maros, with its center at Temesvár. Three weeks later, on 6 February 1695, Ahmed II died in Edirne Palace. \n",
      " \n",
      " ==Great Turkish War== \n",
      " < sd \n",
      " \n",
      " ==Family== \n",
      " ;Consort \n",
      " *Rabia Sultan (died Eski Palace, Bayezid, Istanbul, 14 January 1712, buried in Suleiman I Mausoleum, Süleymaniye Mosque);  M. Çağatay Uluçay, Padişahların Kadınları ve Kızları, Ötüken Publications, p. 114  \n",
      " \n",
      " ;Sons \n",
      " *Şehzade Ibrahim (Edirne Palace, Edirne, 6 October 1692     – Topkapı Palace, Istanbul, 4 May 1714, buried in Mustafa I Mausoleum, Hagia Sophia), with Rabia Sultan, twin with Selim, became Crown Prince on 22 August 1703; \n",
      " *Şehzade Selim (Edirne Palace, Edirne, 6 October 1692 – Edirne Palace, Edirne, 15 May 1693, buried in Sultan Mustafa Mausoleum, Hagia Sophia), with Rabia Sultan, twin with Ibrahim.  \n",
      " \n",
      " ;Daughter \n",
      " *Asiye Sultan  M. Çağatay Uluçay, Padişahların Kadınları ve Kızları, Ötüken Publications, p. 115   (Edirne Palace, Edirne, 23 October 1694   – Eski Palace, Bayezid, Istanbul, 9 December 1695, buried in Suleiman I Mausoleum, Süleymaniye Mosque), with Rabia Sultan; \n",
      " \n",
      " ==Further reading== \n",
      " * \n",
      " *Michael Hochendlinger, Austria's Wars of Emergence: War, State and Society in the Habsburg Monarchy, 1683–1797 (London: Longman, 2003), 157–64. \n",
      " \n",
      " == References == \n",
      "  \n",
      " \n",
      " == External links == \n",
      "  \n",
      " \n",
      "  \n",
      " \n",
      "  \n",
      "  \n",
      "  \n",
      "  \n",
      "  \n",
      "  \n",
      "  \n",
      "  \n",
      "  \n",
      "  \n",
      "  \n",
      " \n",
      "  \n",
      "  \n",
      " \n",
      "  \n",
      " \n",
      " Category:1643 births \n",
      " Category:1695 deaths \n",
      " Category:Sunni caliphs \n",
      " Category:Ottoman people of the Great Turkish War \n",
      " Category:17th-century Ottoman sultans \n",
      " Category:Turks of the Ottoman Empire \n",
      " Category:Custodian of the Two Holy Mosques \n",
      " Category:Ottoman dynasty\n"
     ]
    },
    {
     "ename": "AttributeError",
     "evalue": "'NoneType' object has no attribute 'split'",
     "output_type": "error",
     "traceback": [
      "\u001b[1;31m---------------------------------------------------------------------------\u001b[0m",
      "\u001b[1;31mAttributeError\u001b[0m                            Traceback (most recent call last)",
      "\u001b[1;32m<ipython-input-12-890062561d53>\u001b[0m in \u001b[0;36m<module>\u001b[1;34m\u001b[0m\n\u001b[1;32m----> 1\u001b[1;33m \u001b[0mprint\u001b[0m\u001b[1;33m(\u001b[0m\u001b[0mcleaned_text\u001b[0m\u001b[1;33m)\u001b[0m\u001b[1;33m.\u001b[0m\u001b[0msplit\u001b[0m\u001b[1;33m(\u001b[0m\u001b[1;34m\"\\n\"\u001b[0m\u001b[1;33m)\u001b[0m\u001b[1;33m\u001b[0m\u001b[1;33m\u001b[0m\u001b[0m\n\u001b[0m",
      "\u001b[1;31mAttributeError\u001b[0m: 'NoneType' object has no attribute 'split'"
     ]
    }
   ],
   "source": [
    "print(cleaned_text).split(\"\\n\")"
   ]
  },
  {
   "cell_type": "code",
   "execution_count": null,
   "metadata": {},
   "outputs": [],
   "source": []
  }
 ],
 "metadata": {
  "kernelspec": {
   "display_name": "Python 3",
   "language": "python",
   "name": "python3"
  },
  "language_info": {
   "codemirror_mode": {
    "name": "ipython",
    "version": 3
   },
   "file_extension": ".py",
   "mimetype": "text/x-python",
   "name": "python",
   "nbconvert_exporter": "python",
   "pygments_lexer": "ipython3",
   "version": "3.7.4"
  }
 },
 "nbformat": 4,
 "nbformat_minor": 2
}
